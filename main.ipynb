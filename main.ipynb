{
 "cells": [
  {
   "cell_type": "code",
   "execution_count": 16,
   "metadata": {},
   "outputs": [],
   "source": [
    "from Scripts.import_data import *\n",
    "import pandas as pd\n",
    "from sklearn.model_selection import train_test_split\n",
    "from sklearn.linear_model import LinearRegression\n",
    "from sklearn.ensemble import RandomForestRegressor, GradientBoostingRegressor\n",
    "from sklearn.svm import SVR\n",
    "from sklearn.metrics import mean_squared_error"
   ]
  },
  {
   "cell_type": "code",
   "execution_count": 17,
   "metadata": {},
   "outputs": [],
   "source": [
    "import pandas as pd\n",
    "import xlrd\n",
    "import os\n",
    "import warnings\n",
    "\n",
    "file_paths = [\"Rocznik_2014__GR.xls\", \"Rocznik_2015__GR.xls\", \"Rocznik_2016__GR.xls\", \"Rocznik_2017_GR.xls\", \"Rocznik_2018_GR.xls\", \"Rocznik_2019_GR.xls\",\n",
    "              \"Rocznik_2020_GR.xls\", \"Rocznik_2021_GR.xls\", \"Rocznik_2022_GR.xls\"]\n",
    "\n",
    "# map files to tab names [tabs are mixed between years]\n",
    "files_to_tab_names = dict()\n",
    "headers = dict()\n",
    "for ind, path in enumerate(file_paths):\n",
    "  files_to_tab_names[path] = dict()\n",
    "  headers[path] = dict()\n",
    "\n",
    "  if ind <= 3:\n",
    "    files_to_tab_names[path][\"market_value\"] = \"Tab 17\"\n",
    "  else:\n",
    "    files_to_tab_names[path][\"market_value\"] = \"Tab 12\""
   ]
  },
  {
   "cell_type": "code",
   "execution_count": 18,
   "metadata": {},
   "outputs": [
    {
     "name": "stdout",
     "output_type": "stream",
     "text": [
      "Empty DataFrame\n",
      "Columns: []\n",
      "Index: []\n"
     ]
    }
   ],
   "source": [
    "def read_excel_files(path):\n",
    "    excel_data = {}\n",
    "    for file in os.listdir(path):\n",
    "        if file.endswith(\".xls\"):\n",
    "            year = file.split('_')[1]  # Extracting year from file name\n",
    "            xls = pd.ExcelFile(os.path.join(path, file))\n",
    "            for sheet_name in xls.sheet_names:\n",
    "                if sheet_name == files_to_tab_names[file][\"market_value\"]:\n",
    "                    df = pd.read_excel(xls, sheet_name=sheet_name, header=3)\n",
    "                    for index, row in df.iterrows():\n",
    "                      company = row[1]\n",
    "                      if company not in excel_data:\n",
    "                        excel_data[company] = {}\n",
    "                      if int(year) >= 2018:\n",
    "                        excel_data[company][year] = row[5]\n",
    "                      else:\n",
    "                        excel_data[company][year] = row[3]\n",
    "\n",
    "    return excel_data\n",
    "\n",
    "excel_data = read_excel_files(\"./\")\n",
    "excel_data = {key: dict(sorted(value.items(), reverse=True)) for key, value in excel_data.items()}\n",
    "for company, data in excel_data.items():\n",
    "  for year, value in data.items():\n",
    "   if str(int(year) - 1) in excel_data[company].keys() and excel_data[company][str(int(year) - 1)] != 0:\n",
    "      excel_data[company][year] = 100*(value - excel_data[company][str(int(year) - 1)])/excel_data[company][str(int(year) - 1)]\n",
    "\n",
    "# Create DataFrame\n",
    "df = pd.DataFrame.from_dict(excel_data, orient='index')\n",
    "print(df)\n",
    "df.to_csv('market_values.csv', index=True)"
   ]
  },
  {
   "cell_type": "code",
   "execution_count": 19,
   "metadata": {},
   "outputs": [
    {
     "name": "stdout",
     "output_type": "stream",
     "text": [
      "Index([    'PKOBP',  'PKNORLEN',       'PZU',     'SANPL', 'CDPROJEKT',\n",
      "           'PEKAO',    'INGBSK',     'PGNIG',      'KGHM', 'CYFRPLSAT',\n",
      "       ...\n",
      "         'COMPLEX', 'MOSTALEXP',    'MISPOL',   'IDEATFI', 'BUDVARCEN',\n",
      "       'GLOBALNRG',  'GREENECO', 'ENERGOPLD',    'CCIINT',   'NOVAKBM'],\n",
      "      dtype='object', name='Unnamed: 0', length=633)\n",
      "                 2022       2021       2020          2019       2018  \\\n",
      "Unnamed: 0                                                             \n",
      "PKOBP       56.441504 -16.656994 -12.693185    -10.923042  57.462687   \n",
      "PKNORLEN    28.794157 -32.742939 -20.647244      2.028292  24.267301   \n",
      "PZU          9.239826 -19.160652  -8.815479      4.127135  26.949710   \n",
      "SANPL       87.668260 -39.530316 -14.182033  36568.030000        NaN   \n",
      "CDPROJEKT  -29.719242   2.919316  91.964313     50.103071  85.823903   \n",
      "...               ...        ...        ...           ...        ...   \n",
      "GLOBALNRG         NaN        NaN        NaN           NaN        NaN   \n",
      "GREENECO          NaN        NaN        NaN           NaN        NaN   \n",
      "ENERGOPLD         NaN        NaN        NaN           NaN        NaN   \n",
      "CCIINT            NaN        NaN        NaN           NaN        NaN   \n",
      "NOVAKBM           NaN        NaN        NaN           NaN        NaN   \n",
      "\n",
      "                  2017       2016       2015      2014  \n",
      "Unnamed: 0                                              \n",
      "PKOBP         2.963776 -23.573826  -9.284627  49275.00  \n",
      "PKNORLEN     25.718486  38.695813  19.317099  17536.07  \n",
      "PZU          -2.380940 -30.000010   8.252581  38767.87  \n",
      "SANPL              NaN        NaN        NaN       NaN  \n",
      "CDPROJEKT   138.569948  32.634155  -4.788582   1665.42  \n",
      "...                ...        ...        ...       ...  \n",
      "GLOBALNRG          NaN        NaN        NaN     13.56  \n",
      "GREENECO           NaN        NaN        NaN      6.88  \n",
      "ENERGOPLD          NaN        NaN        NaN      0.71  \n",
      "CCIINT             NaN        NaN        NaN   1630.21  \n",
      "NOVAKBM            NaN        NaN        NaN    229.40  \n",
      "\n",
      "[633 rows x 9 columns]\n"
     ]
    }
   ],
   "source": [
    "import copy\n",
    "\n",
    "market_values = pd.read_csv('./Data/market_values.csv')\n",
    "market_values.set_index('Unnamed: 0', inplace=True)\n",
    "print(market_values.index)\n",
    "print(market_values)"
   ]
  },
  {
   "cell_type": "code",
   "execution_count": 20,
   "metadata": {},
   "outputs": [
    {
     "ename": "AttributeError",
     "evalue": "'str' object has no attribute 'items'",
     "output_type": "error",
     "traceback": [
      "\u001b[1;31m---------------------------------------------------------------------------\u001b[0m",
      "\u001b[1;31mAttributeError\u001b[0m                            Traceback (most recent call last)",
      "\u001b[1;32m<ipython-input-20-bb73a0cafb9a>\u001b[0m in \u001b[0;36m<module>\u001b[1;34m\u001b[0m\n\u001b[0;32m     38\u001b[0m     \u001b[1;32mfor\u001b[0m \u001b[0myear\u001b[0m\u001b[1;33m,\u001b[0m \u001b[0mmarket_data\u001b[0m \u001b[1;32min\u001b[0m \u001b[0myears\u001b[0m\u001b[1;33m.\u001b[0m\u001b[0mitems\u001b[0m\u001b[1;33m(\u001b[0m\u001b[1;33m)\u001b[0m\u001b[1;33m:\u001b[0m\u001b[1;33m\u001b[0m\u001b[1;33m\u001b[0m\u001b[0m\n\u001b[0;32m     39\u001b[0m         \u001b[0mnew_row\u001b[0m \u001b[1;33m=\u001b[0m \u001b[1;33m{\u001b[0m\u001b[1;33m}\u001b[0m\u001b[1;33m\u001b[0m\u001b[1;33m\u001b[0m\u001b[0m\n\u001b[1;32m---> 40\u001b[1;33m         \u001b[1;32mfor\u001b[0m \u001b[0mindicator\u001b[0m\u001b[1;33m,\u001b[0m \u001b[0mvalue\u001b[0m \u001b[1;32min\u001b[0m \u001b[0mmarket_data\u001b[0m\u001b[1;33m.\u001b[0m\u001b[0mitems\u001b[0m\u001b[1;33m(\u001b[0m\u001b[1;33m)\u001b[0m\u001b[1;33m:\u001b[0m\u001b[1;33m\u001b[0m\u001b[1;33m\u001b[0m\u001b[0m\n\u001b[0m\u001b[0;32m     41\u001b[0m             \u001b[1;32mif\u001b[0m \u001b[0mindicator\u001b[0m \u001b[1;32min\u001b[0m \u001b[0mcolumns\u001b[0m\u001b[1;33m:\u001b[0m  \u001b[1;31m# Check if the indicator exists in columns\u001b[0m\u001b[1;33m\u001b[0m\u001b[1;33m\u001b[0m\u001b[0m\n\u001b[0;32m     42\u001b[0m                 \u001b[0mnew_row\u001b[0m\u001b[1;33m[\u001b[0m\u001b[0mindicator\u001b[0m\u001b[1;33m]\u001b[0m \u001b[1;33m=\u001b[0m \u001b[0mvalue\u001b[0m\u001b[1;33m\u001b[0m\u001b[1;33m\u001b[0m\u001b[0m\n",
      "\u001b[1;31mAttributeError\u001b[0m: 'str' object has no attribute 'items'"
     ]
    }
   ],
   "source": [
    "import copy\n",
    "\n",
    "balance_data = import_csv_dict_of_dataframes('./Data/companies_balance_sheet.csv')\n",
    "\n",
    "concated_balance_data = pd.concat(balance_data.values())\n",
    "\n",
    "concated_balance_data = concated_balance_data[concated_balance_data.index.get_level_values(1).notnull()]\n",
    "concated_balance_data.fillna(0, inplace = True)\n",
    "\n",
    "for company, years in balance_data.items():\n",
    "    for year, data in years.items():\n",
    "        if company in market_values.index and year in market_values.columns:\n",
    "            # Take only the second level of the MultiIndex\n",
    "            data.index = data.index.droplevel(0)\n",
    "\n",
    "#in progress - zmiana na procenty\n",
    "\n",
    "#balance_data2 = copy.deepcopy(balance_data)\n",
    "# for company, years in balance_data.items():\n",
    "#     for year, data in years.items():\n",
    "#         if company in df.index and year in df.columns:\n",
    "#             for indicator, value in data.items():\n",
    "#               if str(int(year)-1) in balance_data2[company].keys() and isinstance(balance_data[company][year][indicator], float):\n",
    "#                 balance_data[company][year][indicator] = (value - balance_data2[company][str(int(year)-1)])[indicator]/balance_data2[company][str(int(year)-1)][indicator]\n",
    "\n",
    "columns = ['Accounting period', 'Revenues from sales', 'Operating profit/loss',\n",
    "       'Net profit/loss attributable to equity holders of the parent',\n",
    "       'Total comprehensive income attributable to equity holders',\n",
    "       'Depreciation', 'Cash flow from operating activities',\n",
    "       'Cash flow from investing activities',\n",
    "       'Cash flow from financing activities', 'Aktywa', 'Non-current assets',\n",
    "       'Current assets', 'Equity shareholders of the parent',\n",
    "       'Non-current liabilities', 'Current liabilities', 'Earnings per share',\n",
    "       'Total comprehensive income per share', 'Book value per share', 'market_value']\n",
    "\n",
    "rows = []\n",
    "for company, years in concated_balance_data.items():\n",
    "    for year, market_data in years.items():\n",
    "        new_row = {}\n",
    "        for indicator, value in market_data.items():\n",
    "            if indicator in columns:  # Check if the indicator exists in columns\n",
    "                new_row[indicator] = value\n",
    "        if company in market_values.index and year in market_values.columns:\n",
    "            new_row['market_value'] = market_values[year][company]\n",
    "            rows.append(new_row)\n",
    "\n",
    "# Create DataFrame from the list of rows\n",
    "data = pd.DataFrame(rows, columns=columns)\n",
    "print(data)"
   ]
  },
  {
   "cell_type": "code",
   "execution_count": null,
   "metadata": {},
   "outputs": [],
   "source": [
    "data = data.dropna(subset=data.columns[data.isna().any()])\n",
    "X = data.drop('market_value', axis=1)\n",
    "y = data['market_value']"
   ]
  },
  {
   "cell_type": "code",
   "execution_count": null,
   "metadata": {},
   "outputs": [],
   "source": [
    "X_train, X_test, y_train, y_test = train_test_split(X, y, test_size=0.2, random_state=42)\n",
    "\n",
    "models = {\n",
    "    'Linear Regression': LinearRegression(),\n",
    "    'Random Forest': RandomForestRegressor(),\n",
    "    'Gradient Boosting': GradientBoostingRegressor(),\n",
    "    'Support Vector Machine': SVR(kernel='linear'),\n",
    "    'Neural Network': MLPRegressor(hidden_layer_sizes=(100,), activation='relu', solver='adam', max_iter=1000)\n",
    "}\n",
    "\n",
    "# Train and evaluate each model\n",
    "for name, model in models.items():\n",
    "    model.fit(X_train, y_train)\n",
    "    y_pred = model.predict(X_test)\n",
    "    mse = mean_squared_error(y_test, y_pred)\n",
    "    print(f'{name} MSE: {mse}')"
   ]
  },
  {
   "cell_type": "markdown",
   "metadata": {},
   "source": [
    "Balance_data to słownik, którego klucze to nazwy spółek natomiast wartości do dataframe'y z danymi od 2017 roku do 2021 roku. "
   ]
  },
  {
   "cell_type": "code",
   "execution_count": null,
   "metadata": {},
   "outputs": [],
   "source": [
    "\n",
    "X = concated_balance_data[concated_balance_data.index.get_level_values(1).isin(poi)]\n",
    "\n",
    "\n",
    "# tutaj daj coś do y\n"
   ]
  },
  {
   "cell_type": "code",
   "execution_count": null,
   "metadata": {},
   "outputs": [
    {
     "ename": "NameError",
     "evalue": "name 'y' is not defined",
     "output_type": "error",
     "traceback": [
      "\u001b[1;31m---------------------------------------------------------------------------\u001b[0m",
      "\u001b[1;31mNameError\u001b[0m                                 Traceback (most recent call last)",
      "\u001b[1;32m<ipython-input-33-22b503549287>\u001b[0m in \u001b[0;36m<module>\u001b[1;34m\u001b[0m\n\u001b[1;32m----> 1\u001b[1;33m \u001b[0mX_train\u001b[0m\u001b[1;33m,\u001b[0m \u001b[0mX_test\u001b[0m\u001b[1;33m,\u001b[0m \u001b[0my_train\u001b[0m\u001b[1;33m,\u001b[0m \u001b[0my_test\u001b[0m \u001b[1;33m=\u001b[0m \u001b[0mtrain_test_split\u001b[0m\u001b[1;33m(\u001b[0m\u001b[0mX\u001b[0m\u001b[1;33m,\u001b[0m \u001b[0my\u001b[0m\u001b[1;33m,\u001b[0m \u001b[0mtest_size\u001b[0m\u001b[1;33m=\u001b[0m\u001b[1;36m0.2\u001b[0m\u001b[1;33m,\u001b[0m \u001b[0mrandom_state\u001b[0m\u001b[1;33m=\u001b[0m\u001b[1;36m42\u001b[0m\u001b[1;33m)\u001b[0m\u001b[1;33m\u001b[0m\u001b[1;33m\u001b[0m\u001b[0m\n\u001b[0m\u001b[0;32m      2\u001b[0m \u001b[1;33m\u001b[0m\u001b[0m\n\u001b[0;32m      3\u001b[0m models = {\n\u001b[0;32m      4\u001b[0m     \u001b[1;34m'Linear Regression'\u001b[0m\u001b[1;33m:\u001b[0m \u001b[0mLinearRegression\u001b[0m\u001b[1;33m(\u001b[0m\u001b[1;33m)\u001b[0m\u001b[1;33m,\u001b[0m\u001b[1;33m\u001b[0m\u001b[1;33m\u001b[0m\u001b[0m\n\u001b[0;32m      5\u001b[0m     \u001b[1;34m'Random Forest'\u001b[0m\u001b[1;33m:\u001b[0m \u001b[0mRandomForestRegressor\u001b[0m\u001b[1;33m(\u001b[0m\u001b[1;33m)\u001b[0m\u001b[1;33m,\u001b[0m\u001b[1;33m\u001b[0m\u001b[1;33m\u001b[0m\u001b[0m\n",
      "\u001b[1;31mNameError\u001b[0m: name 'y' is not defined"
     ]
    }
   ],
   "source": [
    "X_train, X_test, y_train, y_test = train_test_split(X, y, test_size=0.2, random_state=42)\n",
    "\n",
    "models = {\n",
    "    'Linear Regression': LinearRegression(),\n",
    "    'Random Forest': RandomForestRegressor(),\n",
    "    'Gradient Boosting': GradientBoostingRegressor(),\n",
    "    'Support Vector Machine': SVR(kernel='linear'),\n",
    "    'Neural Network': MLPRegressor(hidden_layer_sizes=(100,), activation='relu', solver='adam', max_iter=1000)\n",
    "}\n",
    "\n",
    "# Train and evaluate each model\n",
    "for name, model in models.items():\n",
    "    model.fit(X_train, y_train)\n",
    "    y_pred = model.predict(X_test)\n",
    "    mse = mean_squared_error(y_test, y_pred)\n",
    "    print(f'{name} MSE: {mse}')\n",
    "\n",
    "# Pick the best performing model for deployment\n"
   ]
  }
 ],
 "metadata": {
  "kernelspec": {
   "display_name": "Python 3",
   "language": "python",
   "name": "python3"
  },
  "language_info": {
   "codemirror_mode": {
    "name": "ipython",
    "version": 3
   },
   "file_extension": ".py",
   "mimetype": "text/x-python",
   "name": "python",
   "nbconvert_exporter": "python",
   "pygments_lexer": "ipython3",
   "version": "3.6.8rc1"
  }
 },
 "nbformat": 4,
 "nbformat_minor": 2
}
