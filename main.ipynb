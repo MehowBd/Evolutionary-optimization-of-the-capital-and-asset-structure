{
 "cells": [
  {
   "cell_type": "code",
   "execution_count": 1,
   "metadata": {},
   "outputs": [],
   "source": [
    "from Scripts.import_data import *\n",
    "import pandas as pd\n",
    "from sklearn.model_selection import train_test_split\n",
    "from sklearn.linear_model import LinearRegression\n",
    "from sklearn.ensemble import RandomForestRegressor, GradientBoostingRegressor\n",
    "from sklearn.svm import SVR\n",
    "from sklearn.metrics import mean_squared_error"
   ]
  },
  {
   "cell_type": "code",
   "execution_count": 7,
   "metadata": {},
   "outputs": [],
   "source": [
    "balance_data = import_csv_dict_of_dataframes('./Data/companies_balance_sheet.csv')"
   ]
  },
  {
   "cell_type": "markdown",
   "metadata": {},
   "source": [
    "Balance_data to słownik, którego klucze to nazwy spółek natomiast wartości do dataframe'y z danymi od 2017 roku do 2021 roku. "
   ]
  },
  {
   "cell_type": "code",
   "execution_count": 25,
   "metadata": {},
   "outputs": [
    {
     "ename": "KeyError",
     "evalue": "'[\\'Revenues from sales\\' \\'Operating profit/loss\\'\\n \\'Net profit/loss attributable to equity holders of the parent\\'\\n \\'Total comprehensive income attributable to equity holders\\'\\n \\'Depreciation\\' \\'Cash flow from operating activities\\'\\n \\'Cash flow from investing activities\\'\\n \\'Cash flow from financing activities\\' \\'Aktywa\\' \\'Non-current assets\\'\\n \\'Current assets\\' \\'Equity shareholders of the parent\\'\\n \\'Non-current liabilities\\' \\'Current liabilities\\' \"Number of shares (\\'000)\"\\n \\'Earnings per share\\' \\'Total comprehensive income per share\\'\\n \\'Book value per share\\'] not in index'",
     "output_type": "error",
     "traceback": [
      "\u001b[1;31m---------------------------------------------------------------------------\u001b[0m",
      "\u001b[1;31mKeyError\u001b[0m                                  Traceback (most recent call last)",
      "\u001b[1;32m<ipython-input-25-eca600919c9a>\u001b[0m in \u001b[0;36m<module>\u001b[1;34m\u001b[0m\n\u001b[0;32m      6\u001b[0m \u001b[0mtemp\u001b[0m \u001b[1;33m=\u001b[0m \u001b[0mbalance_data\u001b[0m\u001b[1;33m[\u001b[0m\u001b[1;34m'11BIT'\u001b[0m\u001b[1;33m]\u001b[0m\u001b[1;33m\u001b[0m\u001b[1;33m\u001b[0m\u001b[0m\n\u001b[0;32m      7\u001b[0m \u001b[1;33m\u001b[0m\u001b[0m\n\u001b[1;32m----> 8\u001b[1;33m \u001b[0mtemp\u001b[0m\u001b[1;33m.\u001b[0m\u001b[0mloc\u001b[0m\u001b[1;33m[\u001b[0m\u001b[0mpoi\u001b[0m\u001b[1;33m]\u001b[0m\u001b[1;33m\u001b[0m\u001b[1;33m\u001b[0m\u001b[0m\n\u001b[0m",
      "\u001b[1;32mc:\\Users\\misie\\AppData\\Local\\Programs\\Python\\Python36\\lib\\site-packages\\pandas\\core\\indexing.py\u001b[0m in \u001b[0;36m__getitem__\u001b[1;34m(self, key)\u001b[0m\n\u001b[0;32m    877\u001b[0m \u001b[1;33m\u001b[0m\u001b[0m\n\u001b[0;32m    878\u001b[0m             \u001b[0mmaybe_callable\u001b[0m \u001b[1;33m=\u001b[0m \u001b[0mcom\u001b[0m\u001b[1;33m.\u001b[0m\u001b[0mapply_if_callable\u001b[0m\u001b[1;33m(\u001b[0m\u001b[0mkey\u001b[0m\u001b[1;33m,\u001b[0m \u001b[0mself\u001b[0m\u001b[1;33m.\u001b[0m\u001b[0mobj\u001b[0m\u001b[1;33m)\u001b[0m\u001b[1;33m\u001b[0m\u001b[1;33m\u001b[0m\u001b[0m\n\u001b[1;32m--> 879\u001b[1;33m             \u001b[1;32mreturn\u001b[0m \u001b[0mself\u001b[0m\u001b[1;33m.\u001b[0m\u001b[0m_getitem_axis\u001b[0m\u001b[1;33m(\u001b[0m\u001b[0mmaybe_callable\u001b[0m\u001b[1;33m,\u001b[0m \u001b[0maxis\u001b[0m\u001b[1;33m=\u001b[0m\u001b[0maxis\u001b[0m\u001b[1;33m)\u001b[0m\u001b[1;33m\u001b[0m\u001b[1;33m\u001b[0m\u001b[0m\n\u001b[0m\u001b[0;32m    880\u001b[0m \u001b[1;33m\u001b[0m\u001b[0m\n\u001b[0;32m    881\u001b[0m     \u001b[1;32mdef\u001b[0m \u001b[0m_is_scalar_access\u001b[0m\u001b[1;33m(\u001b[0m\u001b[0mself\u001b[0m\u001b[1;33m,\u001b[0m \u001b[0mkey\u001b[0m\u001b[1;33m:\u001b[0m \u001b[0mTuple\u001b[0m\u001b[1;33m)\u001b[0m\u001b[1;33m:\u001b[0m\u001b[1;33m\u001b[0m\u001b[1;33m\u001b[0m\u001b[0m\n",
      "\u001b[1;32mc:\\Users\\misie\\AppData\\Local\\Programs\\Python\\Python36\\lib\\site-packages\\pandas\\core\\indexing.py\u001b[0m in \u001b[0;36m_getitem_axis\u001b[1;34m(self, key, axis)\u001b[0m\n\u001b[0;32m   1097\u001b[0m                     \u001b[1;32mraise\u001b[0m \u001b[0mValueError\u001b[0m\u001b[1;33m(\u001b[0m\u001b[1;34m\"Cannot index with multidimensional key\"\u001b[0m\u001b[1;33m)\u001b[0m\u001b[1;33m\u001b[0m\u001b[1;33m\u001b[0m\u001b[0m\n\u001b[0;32m   1098\u001b[0m \u001b[1;33m\u001b[0m\u001b[0m\n\u001b[1;32m-> 1099\u001b[1;33m                 \u001b[1;32mreturn\u001b[0m \u001b[0mself\u001b[0m\u001b[1;33m.\u001b[0m\u001b[0m_getitem_iterable\u001b[0m\u001b[1;33m(\u001b[0m\u001b[0mkey\u001b[0m\u001b[1;33m,\u001b[0m \u001b[0maxis\u001b[0m\u001b[1;33m=\u001b[0m\u001b[0maxis\u001b[0m\u001b[1;33m)\u001b[0m\u001b[1;33m\u001b[0m\u001b[1;33m\u001b[0m\u001b[0m\n\u001b[0m\u001b[0;32m   1100\u001b[0m \u001b[1;33m\u001b[0m\u001b[0m\n\u001b[0;32m   1101\u001b[0m             \u001b[1;31m# nested tuple slicing\u001b[0m\u001b[1;33m\u001b[0m\u001b[1;33m\u001b[0m\u001b[1;33m\u001b[0m\u001b[0m\n",
      "\u001b[1;32mc:\\Users\\misie\\AppData\\Local\\Programs\\Python\\Python36\\lib\\site-packages\\pandas\\core\\indexing.py\u001b[0m in \u001b[0;36m_getitem_iterable\u001b[1;34m(self, key, axis)\u001b[0m\n\u001b[0;32m   1035\u001b[0m \u001b[1;33m\u001b[0m\u001b[0m\n\u001b[0;32m   1036\u001b[0m         \u001b[1;31m# A collection of keys\u001b[0m\u001b[1;33m\u001b[0m\u001b[1;33m\u001b[0m\u001b[1;33m\u001b[0m\u001b[0m\n\u001b[1;32m-> 1037\u001b[1;33m         \u001b[0mkeyarr\u001b[0m\u001b[1;33m,\u001b[0m \u001b[0mindexer\u001b[0m \u001b[1;33m=\u001b[0m \u001b[0mself\u001b[0m\u001b[1;33m.\u001b[0m\u001b[0m_get_listlike_indexer\u001b[0m\u001b[1;33m(\u001b[0m\u001b[0mkey\u001b[0m\u001b[1;33m,\u001b[0m \u001b[0maxis\u001b[0m\u001b[1;33m,\u001b[0m \u001b[0mraise_missing\u001b[0m\u001b[1;33m=\u001b[0m\u001b[1;32mFalse\u001b[0m\u001b[1;33m)\u001b[0m\u001b[1;33m\u001b[0m\u001b[1;33m\u001b[0m\u001b[0m\n\u001b[0m\u001b[0;32m   1038\u001b[0m         return self.obj._reindex_with_indexers(\n\u001b[0;32m   1039\u001b[0m             \u001b[1;33m{\u001b[0m\u001b[0maxis\u001b[0m\u001b[1;33m:\u001b[0m \u001b[1;33m[\u001b[0m\u001b[0mkeyarr\u001b[0m\u001b[1;33m,\u001b[0m \u001b[0mindexer\u001b[0m\u001b[1;33m]\u001b[0m\u001b[1;33m}\u001b[0m\u001b[1;33m,\u001b[0m \u001b[0mcopy\u001b[0m\u001b[1;33m=\u001b[0m\u001b[1;32mTrue\u001b[0m\u001b[1;33m,\u001b[0m \u001b[0mallow_dups\u001b[0m\u001b[1;33m=\u001b[0m\u001b[1;32mTrue\u001b[0m\u001b[1;33m\u001b[0m\u001b[1;33m\u001b[0m\u001b[0m\n",
      "\u001b[1;32mc:\\Users\\misie\\AppData\\Local\\Programs\\Python\\Python36\\lib\\site-packages\\pandas\\core\\indexing.py\u001b[0m in \u001b[0;36m_get_listlike_indexer\u001b[1;34m(self, key, axis, raise_missing)\u001b[0m\n\u001b[0;32m   1238\u001b[0m         \u001b[1;31m# Have the index compute an indexer or return None\u001b[0m\u001b[1;33m\u001b[0m\u001b[1;33m\u001b[0m\u001b[1;33m\u001b[0m\u001b[0m\n\u001b[0;32m   1239\u001b[0m         \u001b[1;31m# if it cannot handle:\u001b[0m\u001b[1;33m\u001b[0m\u001b[1;33m\u001b[0m\u001b[1;33m\u001b[0m\u001b[0m\n\u001b[1;32m-> 1240\u001b[1;33m         \u001b[0mindexer\u001b[0m\u001b[1;33m,\u001b[0m \u001b[0mkeyarr\u001b[0m \u001b[1;33m=\u001b[0m \u001b[0max\u001b[0m\u001b[1;33m.\u001b[0m\u001b[0m_convert_listlike_indexer\u001b[0m\u001b[1;33m(\u001b[0m\u001b[0mkey\u001b[0m\u001b[1;33m)\u001b[0m\u001b[1;33m\u001b[0m\u001b[1;33m\u001b[0m\u001b[0m\n\u001b[0m\u001b[0;32m   1241\u001b[0m         \u001b[1;31m# We only act on all found values:\u001b[0m\u001b[1;33m\u001b[0m\u001b[1;33m\u001b[0m\u001b[1;33m\u001b[0m\u001b[0m\n\u001b[0;32m   1242\u001b[0m         \u001b[1;32mif\u001b[0m \u001b[0mindexer\u001b[0m \u001b[1;32mis\u001b[0m \u001b[1;32mnot\u001b[0m \u001b[1;32mNone\u001b[0m \u001b[1;32mand\u001b[0m \u001b[1;33m(\u001b[0m\u001b[0mindexer\u001b[0m \u001b[1;33m!=\u001b[0m \u001b[1;33m-\u001b[0m\u001b[1;36m1\u001b[0m\u001b[1;33m)\u001b[0m\u001b[1;33m.\u001b[0m\u001b[0mall\u001b[0m\u001b[1;33m(\u001b[0m\u001b[1;33m)\u001b[0m\u001b[1;33m:\u001b[0m\u001b[1;33m\u001b[0m\u001b[1;33m\u001b[0m\u001b[0m\n",
      "\u001b[1;32mc:\\Users\\misie\\AppData\\Local\\Programs\\Python\\Python36\\lib\\site-packages\\pandas\\core\\indexes\\multi.py\u001b[0m in \u001b[0;36m_convert_listlike_indexer\u001b[1;34m(self, keyarr)\u001b[0m\n\u001b[0;32m   2398\u001b[0m             \u001b[0mmask\u001b[0m \u001b[1;33m=\u001b[0m \u001b[0mcheck\u001b[0m \u001b[1;33m==\u001b[0m \u001b[1;33m-\u001b[0m\u001b[1;36m1\u001b[0m\u001b[1;33m\u001b[0m\u001b[1;33m\u001b[0m\u001b[0m\n\u001b[0;32m   2399\u001b[0m             \u001b[1;32mif\u001b[0m \u001b[0mmask\u001b[0m\u001b[1;33m.\u001b[0m\u001b[0many\u001b[0m\u001b[1;33m(\u001b[0m\u001b[1;33m)\u001b[0m\u001b[1;33m:\u001b[0m\u001b[1;33m\u001b[0m\u001b[1;33m\u001b[0m\u001b[0m\n\u001b[1;32m-> 2400\u001b[1;33m                 \u001b[1;32mraise\u001b[0m \u001b[0mKeyError\u001b[0m\u001b[1;33m(\u001b[0m\u001b[1;34mf\"{keyarr[mask]} not in index\"\u001b[0m\u001b[1;33m)\u001b[0m\u001b[1;33m\u001b[0m\u001b[1;33m\u001b[0m\u001b[0m\n\u001b[0m\u001b[0;32m   2401\u001b[0m \u001b[1;33m\u001b[0m\u001b[0m\n\u001b[0;32m   2402\u001b[0m         \u001b[1;32mreturn\u001b[0m \u001b[0mindexer\u001b[0m\u001b[1;33m,\u001b[0m \u001b[0mkeyarr\u001b[0m\u001b[1;33m\u001b[0m\u001b[1;33m\u001b[0m\u001b[0m\n",
      "\u001b[1;31mKeyError\u001b[0m: '[\\'Revenues from sales\\' \\'Operating profit/loss\\'\\n \\'Net profit/loss attributable to equity holders of the parent\\'\\n \\'Total comprehensive income attributable to equity holders\\'\\n \\'Depreciation\\' \\'Cash flow from operating activities\\'\\n \\'Cash flow from investing activities\\'\\n \\'Cash flow from financing activities\\' \\'Aktywa\\' \\'Non-current assets\\'\\n \\'Current assets\\' \\'Equity shareholders of the parent\\'\\n \\'Non-current liabilities\\' \\'Current liabilities\\' \"Number of shares (\\'000)\"\\n \\'Earnings per share\\' \\'Total comprehensive income per share\\'\\n \\'Book value per share\\'] not in index'"
     ]
    }
   ],
   "source": [
    "poi = ['Revenues from sales', 'Operating profit/loss', 'Net profit/loss attributable to equity holders of the parent', \n",
    "       'Total comprehensive income attributable to equity holders', 'Depreciation', 'Cash flow from operating activities', \n",
    "       'Cash flow from investing activities', 'Cash flow from financing activities', 'Aktywa', 'Non-current assets',\n",
    "       'Current assets', 'Equity shareholders of the parent', 'Non-current liabilities', 'Current liabilities', \n",
    "       \"Number of shares ('000)\", 'Earnings per share', 'Total comprehensive income per share', 'Book value per share']\n",
    "temp = balance_data['11BIT']\n",
    "\n",
    "temp.loc[poi]"
   ]
  },
  {
   "cell_type": "code",
   "execution_count": null,
   "metadata": {},
   "outputs": [],
   "source": [
    "X_train, X_test, y_train, y_test = train_test_split(X, y, test_size=0.2, random_state=42)\n",
    "\n",
    "models = {\n",
    "    'Linear Regression': LinearRegression(),\n",
    "    'Random Forest': RandomForestRegressor(),\n",
    "    'Gradient Boosting': GradientBoostingRegressor(),\n",
    "    'Support Vector Machine': SVR(kernel='linear'),\n",
    "    'Neural Network': MLPRegressor(hidden_layer_sizes=(100,), activation='relu', solver='adam', max_iter=1000)\n",
    "}\n",
    "\n",
    "# Train and evaluate each model\n",
    "for name, model in models.items():\n",
    "    model.fit(X_train, y_train)\n",
    "    y_pred = model.predict(X_test)\n",
    "    mse = mean_squared_error(y_test, y_pred)\n",
    "    print(f'{name} MSE: {mse}')\n",
    "\n",
    "# Pick the best performing model for deployment\n"
   ]
  },
  {
   "cell_type": "code",
   "execution_count": 4,
   "metadata": {},
   "outputs": [
    {
     "name": "stdout",
     "output_type": "stream",
     "text": [
      "dict_keys(['11BIT', '3LPSA', '3RGAMES', 'AB', 'AC', 'ACTION', 'ADIUVO', 'AGORA', 'AGROPUBL', 'AGROWILL', 'AIGAMES', 'AILLERON', 'AIRWAY', 'ALLEGRO', 'ALUMETAL', 'AMBRA', 'AMICA', 'AMPLI', 'AMREST', 'ANSWEAR', 'APATOR', 'APLISENS', 'APSENERG', 'ARCTIC', 'ARTERIA', 'ARTIFEX', 'ASBIS', 'ASMGROUP', 'ASSECOBS', 'ASSECOP', 'ASSECOSE', 'ASTARTA', 'ATENDE', 'ATLANTA', 'ATMG', 'ATREM', 'AUTOPART', 'AZOTY', 'BAHOLDING', 'BEDZIN', 'BENEFIT', 'BERLING', 'BETACOM', 'BIGCHEESE', 'BIOCELTIX', 'BIOMAXIM', 'BIOMED', 'BIOPLAN', 'BIOTON', 'BMW', 'BOGDANKA', 'BOOMBIT', 'BORYSZEW', 'BOWIM', 'BRAND24', 'BRASTER', 'BUDIMEX', 'BUMECH', 'CAPTORTX', 'CCC', 'CDPROJEK', 'CDRL', 'CENNOWTE', 'CEZ', 'CFIHOL', 'CIECH', 'CIGAMES', 'CITYSERV', 'CLNPHARMA', 'COALENER', 'COGNOR', 'COMARCH', 'COMPERIA', 'COMPREMUM', 'COMP_W', 'CORMAY', 'CREEPYJAR', 'CREOTECH', 'CYFPOLS', 'DADELO', 'DATAWALK', 'DEBICA', 'DECORA', 'DEKPOL', 'DELKO', 'DIGITANET', 'DIGITREE', 'DINOPL', 'DOMDEVEL', 'DREWEX', 'DROZAPOL', 'EDINV', 'EFEKT', 'EKO_EXP', 'ELEKTROT', 'ELZAB', 'EMC', 'ENEA', 'ENEFI', 'ENELMED', 'ENERGA', 'ENERGOAP', 'ENERGOIN', 'ENTER', 'ERBUD', 'ERG', 'ESOTIQ', 'EUROCASH', 'EUROTEL', 'FAMUR', 'FASING', 'FEERUM', 'FERRO', 'FERRUM', 'FORTE', 'GAMEOPS', 'GAMFACTOR', 'GIGROUP', 'GLOBCOSM', 'GOBARTO', 'GREENX', 'GRODNO', 'GRUPRACUJ', 'HARPER', 'HELIO', 'HERKULES', 'HOLLYWOO', 'HUUUGE', 'HYDROTOR', 'IFIRMA', 'IFSA', 'IMCSA', 'INSTAL_K', 'INTERCAR', 'INTERFER', 'INTERLUB', 'INTERMED', 'INTERRAO', 'INTERSPO', 'INTROL', 'ITMTRADE', 'IZOBLOK', 'IZOL_JAR', 'IZOSTAL', 'JSW', 'JWWINV', 'K2HOLDING', 'KCI', 'KDMSHIP', 'KERNEL', 'KETY', 'KGHM', 'KGL', 'KINOPL', 'KOGENER', 'KOMPAP', 'KOMPUTRO', 'KORBUDOM', 'KPPD', 'KRAKCHEM', 'KRKA', 'KRVITAMI', 'KRYNICKI', 'KSGAGRO', 'LABOPRIN', 'LARK', 'LARQ', 'LENA', 'LENTEX', 'LESS', 'LIBET', 'LIVECHAT', 'LOTOS', 'LPP', 'LSISOFT', 'LUBAWA', 'LZPS', 'MABION', 'MAKARONY', 'MANGATA', 'MANYDEV', 'MASTERPH', 'MAXCOM', 'MBWS', 'MDIENERG', 'MEDIACAP', 'MEDICALG', 'MEDINICE', 'MEGAR', 'MENNICA', 'MERCATOR', 'MERCEDES', 'MERCOR', 'MEXPOLSKA', 'MFOSA', 'MILKI', 'MIRACUL', 'MIRBUD', 'MLSYSTEM', 'MOBRUK', 'MOJ', 'MOL', 'MOLECURE', 'MONNARI', 'MOST_PK', 'MOST_WWA', 'MOST_ZAB', 'MUZA', 'NANOGROUP', 'NETIA', 'NEUCA', 'NEWAG', 'NEXITY', 'NOVATURAS', 'NOVITA', 'NTT', 'ODLEWNIE', 'OEX', 'ONDE', 'OPONEO', 'OPTEAM', 'ORANGEPL', 'ORZELBIA', 'OTLOGIS', 'OVOSTAR', 'PAK', 'PAMAPOL', 'PANOVA', 'PATENTUS', 'PBG', 'PBKM', 'PCCEXOL', 'PCCROKIT', 'PCFGROUP', 'PC_GUARD', 'PEKABEX', 'PEP', 'PEPCO', 'PEPEES', 'PGE', 'PGNIG', 'PGSSOFT', 'PHARMENA', 'PHOTON', 'PJPMAKRUM', 'PKNORLEN', 'PKPCARGO', 'PLASTBOX', 'PLAYWAY', 'PMPG', 'POLICE', 'POLIMEX', 'POLTREG', 'POLWAX', 'PRIMAMOD', 'PRIMETECH', 'PROCAD', 'PROCHEM', 'PULAWY', 'PUNKPIRAT', 'PURE', 'QUANTUM', 'R22', 'RADPOL', 'RAFAKO', 'RAFAMET', 'RAINBOW', 'RAWLPLUG', 'REDAN', 'REGNON', 'RELPOL', 'REMAK', 'RESBUD', 'RONSON', 'ROPCZYCE', 'RYVU', 'SADOVAYA', 'SANWIL', 'SATIS', 'SECOWAR', 'SEKO', 'SELENAFM', 'SELVITA', 'SERINUS', 'SESCOM', 'SFINKS', 'SHOPER', 'SILVAIR', 'SILVANO', 'SIMFABRIC', 'SIMPLE', 'SKOTAN', 'SLEEPZAG', 'SNIEZKA', 'SOLAR', 'SONEL', 'SOPHARM', 'SPYROSOFT', 'STALEXP', 'STALPROD', 'STALPROF', 'STOMIL_S', 'STSHOLDING', 'SUNEX', 'SUWARY', 'SWISSMED', 'SYGNITY', 'SYNEKTIK', 'TALEX', 'TARCZYNS', 'TATRMR', 'TAURON', 'TBULL', 'TERMOREX', 'TESGAS', 'TIM', 'TORPOL', 'TOYA', 'TRAKCJA', 'TRANSPOL', 'TSGAMES', 'TXM', 'UFGAMES', 'ULMA', 'ULTGAMES', 'UNIBEP', 'UNIMA', 'UNIMOT', 'URSUS', 'VERCOM', 'VIGOPHOTN', 'VISTAL', 'VIVID', 'VOXEL', 'VRG', 'WASKO', 'WAWEL', 'WIELTON', 'WIRTUALN', 'WITTCHEN', 'WOJAS', 'XTPL', 'ZAMET', 'ZPC_OTM', 'ZPUE', 'ZREMBCH', 'ZUE', 'ZUK', 'ZYWIEC'])\n"
     ]
    }
   ],
   "source": [
    "print(x.keys())"
   ]
  }
 ],
 "metadata": {
  "kernelspec": {
   "display_name": "Python 3",
   "language": "python",
   "name": "python3"
  },
  "language_info": {
   "codemirror_mode": {
    "name": "ipython",
    "version": 3
   },
   "file_extension": ".py",
   "mimetype": "text/x-python",
   "name": "python",
   "nbconvert_exporter": "python",
   "pygments_lexer": "ipython3",
   "version": "3.6.8rc1"
  }
 },
 "nbformat": 4,
 "nbformat_minor": 2
}
