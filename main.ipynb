{
 "cells": [
  {
   "cell_type": "code",
   "execution_count": 1,
   "metadata": {},
   "outputs": [],
   "source": [
    "from Scripts.import_data import *\n",
    "\n",
    "import_companies_balance_sheet()\n",
    "\n",
    "data_dict = {}\n",
    "data_dict = import_companies_balance_sheet()\n",
    "\n",
    "#data_dict = load_csv('./Data/companies_balance_sheet.csv')"
   ]
  },
  {
   "cell_type": "code",
   "execution_count": 2,
   "metadata": {},
   "outputs": [
    {
     "name": "stdout",
     "output_type": "stream",
     "text": [
      "dict_keys(['11BIT', '3LPSA', '3RGAMES', 'AB', 'AC', 'ACTION', 'ADIUVO', 'AGORA', 'AGROPUBL', 'AGROWILL', 'AIGAMES', 'AILLERON', 'AIRWAY', 'ALLEGRO', 'ALUMETAL', 'AMBRA', 'AMICA', 'AMPLI', 'AMREST', 'ANSWEAR', 'APATOR', 'APLISENS', 'APSENERG', 'ARCTIC', 'ARTERIA', 'ARTIFEX', 'ASBIS', 'ASMGROUP', 'ASSECOBS', 'ASSECOP', 'ASSECOSE', 'ASTARTA', 'ATENDE', 'ATLANTA', 'ATMG', 'ATREM', 'AUTOPART', 'AZOTY', 'BAHOLDING', 'BEDZIN', 'BENEFIT', 'BERLING', 'BETACOM', 'BIGCHEESE', 'BIOCELTIX', 'BIOMAXIM', 'BIOMED', 'BIOPLAN', 'BIOTON', 'BMW', 'BOGDANKA', 'BOOMBIT', 'BORYSZEW', 'BOWIM', 'BRAND24', 'BRASTER', 'BUDIMEX', 'BUMECH', 'CAPTORTX', 'CCC', 'CDPROJEK', 'CDRL', 'CENNOWTE', 'CEZ', 'CFIHOL', 'CIECH', 'CIGAMES', 'CITYSERV', 'CLNPHARMA', 'COALENER', 'COGNOR', 'COMARCH', 'COMPERIA', 'COMPREMUM', 'COMP_W', 'CORMAY', 'CREEPYJAR', 'CREOTECH', 'CYFPOLS', 'DADELO', 'DATAWALK', 'DEBICA', 'DECORA', 'DEKPOL', 'DELKO', 'DIGITANET', 'DIGITREE', 'DINOPL', 'DOMDEVEL', 'DREWEX', 'DROZAPOL', 'EDINV', 'EFEKT', 'EKO_EXP', 'ELEKTROT', 'ELZAB', 'EMC', 'ENEA', 'ENEFI', 'ENELMED', 'ENERGA', 'ENERGOAP', 'ENERGOIN', 'ENTER', 'ERBUD', 'ERG', 'ESOTIQ', 'EUROCASH', 'EUROTEL', 'FAMUR', 'FASING', 'FEERUM', 'FERRO', 'FERRUM', 'FORTE', 'GAMEOPS', 'GAMFACTOR', 'GIGROUP', 'GLOBCOSM', 'GOBARTO', 'GREENX', 'GRODNO', 'GRUPRACUJ', 'HARPER', 'HELIO', 'HERKULES', 'HOLLYWOO', 'HUUUGE', 'HYDROTOR', 'IFIRMA', 'IFSA', 'IMCSA', 'INSTAL_K', 'INTERCAR', 'INTERFER', 'INTERLUB', 'INTERMED', 'INTERRAO', 'INTERSPO', 'INTROL', 'ITMTRADE', 'IZOBLOK', 'IZOL_JAR', 'IZOSTAL', 'JSW', 'JWWINV', 'K2HOLDING', 'KCI', 'KDMSHIP', 'KERNEL', 'KETY', 'KGHM', 'KGL', 'KINOPL', 'KOGENER', 'KOMPAP', 'KOMPUTRO', 'KORBUDOM', 'KPPD', 'KRAKCHEM', 'KRKA', 'KRVITAMI', 'KRYNICKI', 'KSGAGRO', 'LABOPRIN', 'LARK', 'LARQ', 'LENA', 'LENTEX', 'LESS', 'LIBET', 'LIVECHAT', 'LOTOS', 'LPP', 'LSISOFT', 'LUBAWA', 'LZPS', 'MABION', 'MAKARONY', 'MANGATA', 'MANYDEV', 'MASTERPH', 'MAXCOM', 'MBWS', 'MDIENERG', 'MEDIACAP', 'MEDICALG', 'MEDINICE', 'MEGAR', 'MENNICA', 'MERCATOR', 'MERCEDES', 'MERCOR', 'MEXPOLSKA', 'MFOSA', 'MILKI', 'MIRACUL', 'MIRBUD', 'MLSYSTEM', 'MOBRUK', 'MOJ', 'MOL', 'MOLECURE', 'MONNARI', 'MOST_PK', 'MOST_WWA', 'MOST_ZAB', 'MUZA', 'NANOGROUP', 'NETIA', 'NEUCA', 'NEWAG', 'NEXITY', 'NOVATURAS', 'NOVITA', 'NTT', 'ODLEWNIE', 'OEX', 'ONDE', 'OPONEO', 'OPTEAM', 'ORANGEPL', 'ORZELBIA', 'OTLOGIS', 'OVOSTAR', 'PAK', 'PAMAPOL', 'PANOVA', 'PATENTUS', 'PBG', 'PBKM', 'PCCEXOL', 'PCCROKIT', 'PCFGROUP', 'PC_GUARD', 'PEKABEX', 'PEP', 'PEPCO', 'PEPEES', 'PGE', 'PGNIG', 'PGSSOFT', 'PHARMENA', 'PHOTON', 'PJPMAKRUM', 'PKNORLEN', 'PKPCARGO', 'PLASTBOX', 'PLAYWAY', 'PMPG', 'POLICE', 'POLIMEX', 'POLTREG', 'POLWAX', 'PRIMAMOD', 'PRIMETECH', 'PROCAD', 'PROCHEM', 'PULAWY', 'PUNKPIRAT', 'PURE', 'QUANTUM', 'R22', 'RADPOL', 'RAFAKO', 'RAFAMET', 'RAINBOW', 'RAWLPLUG', 'REDAN', 'REGNON', 'RELPOL', 'REMAK', 'RESBUD', 'RONSON', 'ROPCZYCE', 'RYVU', 'SADOVAYA', 'SANWIL', 'SATIS', 'SECOWAR', 'SEKO', 'SELENAFM', 'SELVITA', 'SERINUS', 'SESCOM', 'SFINKS', 'SHOPER', 'SILVAIR', 'SILVANO', 'SIMFABRIC', 'SIMPLE', 'SKOTAN', 'SLEEPZAG', 'SNIEZKA', 'SOLAR', 'SONEL', 'SOPHARM', 'SPYROSOFT', 'STALEXP', 'STALPROD', 'STALPROF', 'STOMIL_S', 'STSHOLDING', 'SUNEX', 'SUWARY', 'SWISSMED', 'SYGNITY', 'SYNEKTIK', 'TALEX', 'TARCZYNS', 'TATRMR', 'TAURON', 'TBULL', 'TERMOREX', 'TESGAS', 'TIM', 'TORPOL', 'TOYA', 'TRAKCJA', 'TRANSPOL', 'TSGAMES', 'TXM', 'UFGAMES', 'ULMA', 'ULTGAMES', 'UNIBEP', 'UNIMA', 'UNIMOT', 'URSUS', 'VERCOM', 'VIGOPHOTN', 'VISTAL', 'VIVID', 'VOXEL', 'VRG', 'WASKO', 'WAWEL', 'WIELTON', 'WIRTUALN', 'WITTCHEN', 'WOJAS', 'XTPL', 'ZAMET', 'ZPC_OTM', 'ZPUE', 'ZREMBCH', 'ZUE', 'ZUK', 'ZYWIEC'])\n"
     ]
    }
   ],
   "source": [
    "print(data_dict.keys())"
   ]
  }
 ],
 "metadata": {
  "kernelspec": {
   "display_name": "Python 3",
   "language": "python",
   "name": "python3"
  },
  "language_info": {
   "codemirror_mode": {
    "name": "ipython",
    "version": 3
   },
   "file_extension": ".py",
   "mimetype": "text/x-python",
   "name": "python",
   "nbconvert_exporter": "python",
   "pygments_lexer": "ipython3",
   "version": "3.6.8rc1"
  }
 },
 "nbformat": 4,
 "nbformat_minor": 2
}
