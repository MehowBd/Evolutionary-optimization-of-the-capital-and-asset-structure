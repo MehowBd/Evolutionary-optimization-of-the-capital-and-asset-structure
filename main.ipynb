{
  "cells": [
    {
      "cell_type": "code",
      "execution_count": 32,
      "metadata": {
        "id": "OXayOrV0QjDX"
      },
      "outputs": [],
      "source": [
        "from Scripts.import_data import *\n",
        "import pandas as pd\n",
        "from sklearn.model_selection import train_test_split\n",
        "from sklearn.linear_model import LinearRegression\n",
        "from sklearn.ensemble import RandomForestRegressor, GradientBoostingRegressor\n",
        "from sklearn.svm import SVR\n",
        "from sklearn.metrics import mean_squared_error\n",
        "from sklearn.neural_network import MLPRegressor"
      ]
    },
    {
      "cell_type": "markdown",
      "source": [
        "Zaimportowanie wartości rynkowej"
      ],
      "metadata": {
        "id": "4irj7O0iT_Xi"
      }
    },
    {
      "cell_type": "code",
      "source": [
        "#market_values to procentowe roczne zmiany wartości spółek, obliczone w notebooku \"Market_value_importer\"\n",
        "market_values = pd.read_csv('./Data/market_values.csv')\n",
        "market_values.set_index('Unnamed: 0', inplace=True)\n",
        "print(market_values.index)\n",
        "print(market_values)"
      ],
      "metadata": {
        "id": "OdWI8mgHU7ow"
      },
      "execution_count": null,
      "outputs": []
    },
    {
      "cell_type": "markdown",
      "source": [
        "Zaimportowanie danych dotyczących alokacji środków"
      ],
      "metadata": {
        "id": "sur1Bjm_UCzt"
      }
    },
    {
      "cell_type": "code",
      "source": [
        "balance_data = import_csv_dict_of_dataframes('./Data/companies_balance_sheet.csv')\n",
        "\n",
        "for company, years in balance_data.items():\n",
        "    for year, data in years.items():\n",
        "        if company in market_values.index and year in market_values.columns:\n",
        "            # Take only the second level of the MultiIndex\n",
        "            data.index = data.index.droplevel(0)\n"
      ],
      "metadata": {
        "id": "3_8VQKaWRI9N"
      },
      "execution_count": 20,
      "outputs": []
    },
    {
      "cell_type": "markdown",
      "source": [
        "Stworzenie jednego zbioru z wszystkimi danymi"
      ],
      "metadata": {
        "id": "yC-ZhYh4UH67"
      }
    },
    {
      "cell_type": "code",
      "execution_count": 29,
      "metadata": {
        "colab": {
          "base_uri": "https://localhost:8080/"
        },
        "id": "xi9DSVGtQjDa",
        "outputId": "40d7d974-7e7e-4965-cb45-12aa0e4bdc3b"
      },
      "outputs": [
        {
          "output_type": "stream",
          "name": "stdout",
          "text": [
            "          ASSETS  Non-current assets Property, plant and equipment  \\\n",
            "0      48649.817           17173.693                       814.332   \n",
            "1     109262.821  41316.893000000004            18734.064000000002   \n",
            "2     155668.388  49815.126000000004                     20380.205   \n",
            "3     186339.222           70397.597                     26889.503   \n",
            "4     219512.964           90679.674                     25946.479   \n",
            "...          ...                 ...                           ...   \n",
            "1240     1778284              994505                        809413   \n",
            "1241     1790063             1014534                        818103   \n",
            "1242     2479535             1595330                        905788   \n",
            "1243     2513606             1729256                       1053811   \n",
            "1244     2508447             1726721                       1050251   \n",
            "\n",
            "     Exploration for and evaluation of mineral resources Intangible assets  \\\n",
            "0                                                   NaN          13067.498   \n",
            "1                                                   NaN          17138.011   \n",
            "2                                                   NaN          24870.505   \n",
            "3                                                   NaN          37859.517   \n",
            "4                                                   NaN          59137.637   \n",
            "...                                                 ...                ...   \n",
            "1240                                                NaN              36338   \n",
            "1241                                                NaN              29100   \n",
            "1242                                                NaN              26674   \n",
            "1243                                                NaN             360038   \n",
            "1244                                                NaN             347755   \n",
            "\n",
            "     Goodwill Investment property Right-of-use assets  \\\n",
            "0         NaN                 NaN                 NaN   \n",
            "1         NaN                 NaN                 NaN   \n",
            "2         NaN                 NaN            4007.699   \n",
            "3         NaN                 NaN            4003.398   \n",
            "4         NaN                 NaN            4281.361   \n",
            "...       ...                 ...                 ...   \n",
            "1240      NaN                 NaN                 NaN   \n",
            "1241      NaN                 NaN                 NaN   \n",
            "1242      NaN                 NaN               35897   \n",
            "1243      NaN                 NaN               83331   \n",
            "1244      NaN                 NaN              106069   \n",
            "\n",
            "     Investment in affiliates Non-current financial assets  ...  \\\n",
            "0                         NaN                     3053.534  ...   \n",
            "1                         NaN                     5094.282  ...   \n",
            "2                         NaN                          NaN  ...   \n",
            "3                         NaN                          NaN  ...   \n",
            "4                         NaN                          NaN  ...   \n",
            "...                       ...                          ...  ...   \n",
            "1240                    58102                          NaN  ...   \n",
            "1241                    58102                          NaN  ...   \n",
            "1242                   532325                          NaN  ...   \n",
            "1243                    58102                          NaN  ...   \n",
            "1244                    58102                          NaN  ...   \n",
            "\n",
            "     Bond liabilities Liabilities from finance leases Trade payables  \\\n",
            "0                 NaN                             NaN       1197.853   \n",
            "1                 NaN                             NaN       5122.519   \n",
            "2                 NaN                          12.653        5494.21   \n",
            "3                 NaN                          12.651       7444.283   \n",
            "4                 NaN                          14.734       6332.759   \n",
            "...               ...                             ...            ...   \n",
            "1240              NaN                             NaN         913510   \n",
            "1241              NaN                             NaN        1011972   \n",
            "1242              NaN                            6488         704176   \n",
            "1243              NaN                            7175         586113   \n",
            "1244              NaN                           13676         628203   \n",
            "\n",
            "     Employee benefits Current tax liabilities Provisions Other liabilities  \\\n",
            "0                  NaN                     NaN        NaN               NaN   \n",
            "1                  NaN                     NaN        NaN               NaN   \n",
            "2                  NaN                 556.548        NaN            41.795   \n",
            "3                  NaN                1184.903    860.272            41.796   \n",
            "4                  NaN                 744.927    661.422            41.796   \n",
            "...                ...                     ...        ...               ...   \n",
            "1240              4258                   39660      10012               NaN   \n",
            "1241              2327                    2528      11769               NaN   \n",
            "1242               628                   76761       8900               NaN   \n",
            "1243               204                  103458      11302               NaN   \n",
            "1244               184                   89907       8971               NaN   \n",
            "\n",
            "     Accruals (liability)  \\\n",
            "0                 466.396   \n",
            "1                 758.971   \n",
            "2               17256.979   \n",
            "3                 320.698   \n",
            "4                4169.079   \n",
            "...                   ...   \n",
            "1240                  NaN   \n",
            "1241                  NaN   \n",
            "1242               321194   \n",
            "1243               350508   \n",
            "1244               373795   \n",
            "\n",
            "     Liabilities related to assets held for sale and discontinued operations  \\\n",
            "0                                                   NaN                        \n",
            "1                                                   NaN                        \n",
            "2                                                   NaN                        \n",
            "3                                                   NaN                        \n",
            "4                                                   NaN                        \n",
            "...                                                 ...                        \n",
            "1240                                                NaN                        \n",
            "1241                                                NaN                        \n",
            "1242                                                NaN                        \n",
            "1243                                                NaN                        \n",
            "1244                                                NaN                        \n",
            "\n",
            "     market_value  \n",
            "0      107.934581  \n",
            "1       39.139118  \n",
            "2       23.231833  \n",
            "3       63.933486  \n",
            "4       22.300192  \n",
            "...           ...  \n",
            "1240    14.618363  \n",
            "1241     6.546306  \n",
            "1242    -2.118575  \n",
            "1243     6.060657  \n",
            "1244    -1.224528  \n",
            "\n",
            "[1245 rows x 64 columns]\n"
          ]
        }
      ],
      "source": [
        "columns = ['ASSETS','Non-current assets','Property, plant and equipment','Exploration for and evaluation of mineral resources','Intangible assets','Goodwill','Investment property',\n",
        "'Right-of-use assets','Investment in affiliates','Non-current financial assets','Non-current loans and receivables','Deferred income tax','Non-current deferred charges and accruals',\n",
        "'Non-current derivative instruments','Other non-current assets','Current assets','Inventories','Current intangible assets',\n",
        "'Biological assets','Trade receivables','Loans and other receivables','Financial assets','Cash and cash equivalents','Accruals','Assets from current tax','Derivative instruments',\n",
        "'Other assets','Assets held for sale and discontinuing operations','Called up capital','Own shares','EQUITY & LIABILITIES','Equity shareholders of the parent','Share capital',\n",
        "'Called up share capital','Treasury shares','Supplementary capital','Valuation and exchange differences','Other capitals','Retained earnings / accumulated losses','Non-controlling interests',\n",
        "'Non-current liabilities','Non-current liabilities from derivatives','Non-current loans and borrowings','Non-current liabilities from bonds','Non-current liabilities from finance leases',\n",
        "'Non-current trade payables','Long-term provision for employee benefits','Deferred tax liabilities','Non-current provision','Other non-current liabilities','Non-current accruals (liability)',\n",
        "'Current liabilities','Liabilities from derivatives','Financial liabilities (loans and borrowings)','Bond liabilities','Liabilities from finance leases','Trade payables','Employee benefits',\n",
        "'Current tax liabilities','Provisions','Other liabilities','Accruals (liability)','Liabilities related to assets held for sale and discontinued operations', 'market_value']\n",
        "\n",
        "rows = []\n",
        "for company, years in balance_data.items():\n",
        "    for year, market_data in years.items():\n",
        "        new_row = {}\n",
        "        for indicator, value in market_data.items():\n",
        "            if indicator in columns:\n",
        "                new_row[indicator] = value\n",
        "        if company in market_values.index and year in market_values.columns:\n",
        "            new_row['market_value'] = market_values[year][company]\n",
        "            rows.append(new_row)\n",
        "\n",
        "# TODO: zamienić dane o alokacji na procentowe zmiany!!!\n",
        "data = pd.DataFrame(rows, columns=columns)\n",
        "print(data)"
      ]
    },
    {
      "cell_type": "markdown",
      "source": [
        "Czyszczenie danych"
      ],
      "metadata": {
        "id": "DGVCNETOUN2y"
      }
    },
    {
      "cell_type": "code",
      "execution_count": 30,
      "metadata": {
        "id": "DjnQtL-iQjDb"
      },
      "outputs": [],
      "source": [
        "data = data.fillna(0)\n",
        "X = data.drop('market_value', axis=1)\n",
        "y = data['market_value']"
      ]
    },
    {
      "cell_type": "markdown",
      "source": [
        "Uczenie modelu"
      ],
      "metadata": {
        "id": "DaagDhYZUP4C"
      }
    },
    {
      "cell_type": "code",
      "execution_count": null,
      "metadata": {
        "colab": {
          "base_uri": "https://localhost:8080/"
        },
        "id": "je_TRr7hQjDb",
        "outputId": "45aea96d-3d38-4921-c7f4-454c86a2956d"
      },
      "outputs": [
        {
          "output_type": "stream",
          "name": "stdout",
          "text": [
            "Linear Regression MSE: 485652.9285892416\n",
            "Random Forest MSE: 473955.77653803857\n",
            "Gradient Boosting MSE: 478287.66158511076\n"
          ]
        }
      ],
      "source": [
        "X_train, X_test, y_train, y_test = train_test_split(X, y, test_size=0.2, random_state=42)\n",
        "\n",
        "models = {\n",
        "    'Linear Regression': LinearRegression(),\n",
        "    'Random Forest': RandomForestRegressor(),\n",
        "    'Gradient Boosting': GradientBoostingRegressor(),\n",
        "    'Support Vector Machine': SVR(kernel='linear'),\n",
        "    'Neural Network': MLPRegressor(hidden_layer_sizes=(100,), activation='relu', solver='adam', max_iter=1000)\n",
        "}\n",
        "\n",
        "# Train and evaluate each model\n",
        "for name, model in models.items():\n",
        "    model.fit(X_train, y_train)\n",
        "    y_pred = model.predict(X_test)\n",
        "    mse = mean_squared_error(y_test, y_pred)\n",
        "    print(f'{name} MSE: {mse}')"
      ]
    }
  ],
  "metadata": {
    "kernelspec": {
      "display_name": "Python 3",
      "language": "python",
      "name": "python3"
    },
    "language_info": {
      "codemirror_mode": {
        "name": "ipython",
        "version": 3
      },
      "file_extension": ".py",
      "mimetype": "text/x-python",
      "name": "python",
      "nbconvert_exporter": "python",
      "pygments_lexer": "ipython3",
      "version": "3.6.8rc1"
    },
    "colab": {
      "provenance": []
    }
  },
  "nbformat": 4,
  "nbformat_minor": 0
}