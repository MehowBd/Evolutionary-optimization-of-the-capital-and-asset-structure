{
  "cells": [
    {
      "cell_type": "code",
      "execution_count": 5,
      "metadata": {
        "id": "xN6-ftbcQB3b"
      },
      "outputs": [],
      "source": [
        "import pandas as pd\n",
        "import xlrd\n",
        "import os\n",
        "import warnings\n",
        "\n",
        "file_paths = [\"Rocznik_2014__GR.xls\", \"Rocznik_2015__GR.xls\", \"Rocznik_2016__GR.xls\", \"Rocznik_2017_GR.xls\", \"Rocznik_2018_GR.xls\", \"Rocznik_2019_GR.xls\",\n",
        "              \"Rocznik_2020_GR.xls\", \"Rocznik_2021_GR.xls\", \"Rocznik_2022_GR.xls\"]\n",
        "\n",
        "# map files to tab names [tabs are mixed between years]\n",
        "files_to_tab_names = dict()\n",
        "headers = dict()\n",
        "for ind, path in enumerate(file_paths):\n",
        "  files_to_tab_names[path] = dict()\n",
        "  headers[path] = dict()\n",
        "\n",
        "  if ind <= 3:\n",
        "    files_to_tab_names[path][\"market_value\"] = \"Tab 17\"\n",
        "  else:\n",
        "    files_to_tab_names[path][\"market_value\"] = \"Tab 12\""
      ]
    },
    {
      "cell_type": "code",
      "execution_count": 31,
      "metadata": {
        "colab": {
          "base_uri": "https://localhost:8080/"
        },
        "id": "s1V-aiULQOnZ",
        "outputId": "7b2eba1b-7dc4-4d78-855e-8c56a53f5a8e"
      },
      "outputs": [
        {
          "name": "stdout",
          "output_type": "stream",
          "text": [
            "WARNING *** file size (1183124) not 512 + multiple of sector size (512)\n",
            "WARNING *** OLE2 inconsistency: SSCS size is 0 but SSAT size is non-zero\n",
            "dict_keys(['2020', '2016', '2022', '2018', '2015', '2014', '2021', '2017', '2019'])\n"
          ]
        }
      ],
      "source": [
        "def read_excel_files(path):\n",
        "    excel_data = {}\n",
        "    for file in os.listdir(path):\n",
        "        if file.endswith(\".xls\"):\n",
        "            year = file.split('_')[1]  # Extracting year from file name\n",
        "            xls = pd.ExcelFile(os.path.join(path, file))\n",
        "            for sheet_name in xls.sheet_names:\n",
        "                if sheet_name == files_to_tab_names[file][\"market_value\"]:\n",
        "                    df = pd.read_excel(xls, sheet_name=sheet_name, header=3)\n",
        "                    for index, row in df.iterrows():\n",
        "                      company = row[1]\n",
        "                      if company not in excel_data:\n",
        "                        excel_data[company] = {}\n",
        "                      if int(year) >= 2018:\n",
        "                        excel_data[company][year] = row[5]\n",
        "                      else:\n",
        "                        excel_data[company][year] = row[3]\n",
        "\n",
        "    return excel_data\n",
        "\n",
        "excel_data = read_excel_files(\"./\")\n",
        "excel_data = {key: dict(sorted(value.items(), reverse=True)) for key, value in excel_data.items()}\n",
        "for company, data in excel_data.items():\n",
        "  for year, value in data.items():\n",
        "   if str(int(year) - 1) in excel_data[company].keys() and excel_data[company][str(int(year) - 1)] != 0:\n",
        "      excel_data[company][year] = 100*(value - excel_data[company][str(int(year) - 1)])/excel_data[company][str(int(year) - 1)]\n",
        "\n",
        "# Create DataFrame\n",
        "df = pd.DataFrame.from_dict(excel_data, orient='index')\n",
        "print(df)\n",
        "df.to_csv('market_values.csv', index=True)"
      ]
    }
  ],
  "metadata": {
    "colab": {
      "provenance": []
    },
    "kernelspec": {
      "display_name": "Python 3",
      "name": "python3"
    },
    "language_info": {
      "name": "python"
    }
  },
  "nbformat": 4,
  "nbformat_minor": 0
}
