{
  "nbformat": 4,
  "nbformat_minor": 0,
  "metadata": {
    "colab": {
      "provenance": []
    },
    "kernelspec": {
      "name": "python3",
      "display_name": "Python 3"
    },
    "language_info": {
      "name": "python"
    }
  },
  "cells": [
    {
      "cell_type": "code",
      "source": [
        "import pandas as pd\n",
        "import xlrd\n",
        "import os\n",
        "import warnings\n",
        "\n",
        "file_paths = [\"Rocznik_2014__GR.xls\", \"Rocznik_2015__GR.xls\", \"Rocznik_2016__GR.xls\", \"Rocznik_2017_GR.xls\", \"Rocznik_2018_GR.xls\", \"Rocznik_2019_GR.xls\",\n",
        "              \"Rocznik_2020_GR.xls\", \"Rocznik_2021_GR.xls\", \"Rocznik_2022_GR.xls\"]\n",
        "\n",
        "# map files to tab names [tabs are mixed between years]\n",
        "files_to_tab_names = dict()\n",
        "headers = dict()\n",
        "for ind, path in enumerate(file_paths):\n",
        "  files_to_tab_names[path] = dict()\n",
        "  headers[path] = dict()\n",
        "\n",
        "  if ind <= 3:\n",
        "    files_to_tab_names[path][\"wartosci_akcji\"] = \"Tab 13\"\n",
        "    files_to_tab_names[path][\"najwyzsze_sesyjne_obroty\"] = \"Tab 14\"\n",
        "    files_to_tab_names[path][\"stopy_zwrotu\"] = \"Tab 15\"\n",
        "    files_to_tab_names[path][\"najwyzsze_stopy_zwrotu\"] = \"Tab 16\"\n",
        "  else:\n",
        "    files_to_tab_names[path][\"wartosci_akcji\"] = \"Tab 8\"\n",
        "    files_to_tab_names[path][\"najwyzsze_sesyjne_obroty\"] = \"Tab 9\"\n",
        "    files_to_tab_names[path][\"stopy_zwrotu\"] = \"Tab 10\"\n",
        "    files_to_tab_names[path][\"najwyzsze_stopy_zwrotu\"] = \"Tab 11\"\n",
        "  headers[path][\"wartosci_akcji\"] = [3]"
      ],
      "metadata": {
        "id": "xN6-ftbcQB3b"
      },
      "execution_count": 5,
      "outputs": []
    },
    {
      "cell_type": "code",
      "source": [
        "def read_excel_files(path):\n",
        "    excel_data = {}\n",
        "    for file in os.listdir(path):\n",
        "        if file.endswith(\".xls\"):\n",
        "            year = file.split('_')[1]  # Extracting year from file name\n",
        "            excel_data[year] = {}\n",
        "            xls = pd.ExcelFile(os.path.join(path, file))\n",
        "            for sheet_name in xls.sheet_names:\n",
        "\n",
        "              if sheet_name == files_to_tab_names[file][\"wartosci_akcji\"]:\n",
        "                excel_data[year][\"wartosci_akcji\"] = pd.read_excel(xls, sheet_name=sheet_name, header=headers[file][\"wartosci_akcji\"], usecols = range(11))\n",
        "\n",
        "    print(excel_data.keys())\n",
        "    return excel_data\n",
        "excel_data = read_excel_files(\"./\")"
      ],
      "metadata": {
        "colab": {
          "base_uri": "https://localhost:8080/"
        },
        "id": "s1V-aiULQOnZ",
        "outputId": "7b2eba1b-7dc4-4d78-855e-8c56a53f5a8e"
      },
      "execution_count": 31,
      "outputs": [
        {
          "output_type": "stream",
          "name": "stdout",
          "text": [
            "WARNING *** file size (1183124) not 512 + multiple of sector size (512)\n",
            "WARNING *** OLE2 inconsistency: SSCS size is 0 but SSAT size is non-zero\n",
            "dict_keys(['2020', '2016', '2022', '2018', '2015', '2014', '2021', '2017', '2019'])\n"
          ]
        }
      ]
    },
    {
      "cell_type": "code",
      "source": [
        "def trim_element(element):\n",
        "    if isinstance(element, str):  # Check if element is a string\n",
        "        return element.strip()  # Trim whitespace\n",
        "    return element  # Return unchanged if not a string\n",
        "\n",
        "def separate_data_by_company(excel_data):\n",
        "\n",
        "    company_dfs = {}\n",
        "    for year, sheets in excel_data.items():\n",
        "        for sheet_name, df in sheets.items():\n",
        "            company_col = None\n",
        "            if 'Lp./ No' in df.columns:\n",
        "              df.drop(columns = ['Lp./ No'])\n",
        "            if 'Unnamed: 9' in df.columns: #delete empty/irrelevent columns\n",
        "              df.drop(columns = ['Unnamed: 9'])\n",
        "            for col in df.columns:\n",
        "                if 'Spółka/ Company' in col:\n",
        "                    company_col = col\n",
        "                    break\n",
        "                elif 'Akcje/ Shares' in col:\n",
        "                    company_col = col\n",
        "                    break\n",
        "                elif 'Spółka/Company' in col:\n",
        "                    company_col = col\n",
        "                    break\n",
        "                elif 'Akcje/Shares' in col:\n",
        "                    company_col = col\n",
        "                    break\n",
        "                elif 'Spółka / Company' in col:\n",
        "                    company_col = col\n",
        "                    break\n",
        "                elif 'Akcje / Shares' in col:\n",
        "                    company_col = col\n",
        "                    break\n",
        "\n",
        "            if company_col is None:\n",
        "                raise ValueError(f\"Company column not found in the DataFrame, sheet_name={sheet_name}, year = {year}\")\n",
        "\n",
        "            df[company_col] = df[company_col].apply(trim_element)\n",
        "\n",
        "            for company, group in df.groupby(by=company_col):\n",
        "                if company not in company_dfs:\n",
        "                    # Initialize DataFrame with columns corresponding to each year\n",
        "                    company_dfs[company] = pd.DataFrame(columns=excel_data.keys())\n",
        "                # Add data for the company and year, transposing the group\n",
        "                company_dfs[company][year] = group.drop(columns=[company_col]).T\n",
        "    for company, df in company_dfs.items():\n",
        "        company_dfs[company] = df.sort_index(axis=1)\n",
        "    return company_dfs\n",
        "company_data = separate_data_by_company(excel_data)"
      ],
      "metadata": {
        "id": "ALoxXTOGQfBm"
      },
      "execution_count": 37,
      "outputs": []
    },
    {
      "cell_type": "code",
      "source": [
        "print(company_data.keys())\n",
        "print(company_data['08OCTAVA'].head())"
      ],
      "metadata": {
        "colab": {
          "base_uri": "https://localhost:8080/"
        },
        "id": "95PtfuJ9Qyi5",
        "outputId": "3c2b9ec6-dd19-4082-9dc0-8ad59b763e44"
      },
      "execution_count": 39,
      "outputs": [
        {
          "output_type": "stream",
          "name": "stdout",
          "text": [
            "dict_keys(['06MAGNA', '08OCTAVA', '11BIT', '4FUNMEDIA', 'ABADONRE', 'ABCDATA', 'ABMSOLID', 'ABPL', 'ACAUTOGAZ', 'ACTION', 'ADIUVO', 'AGORA', 'AGROTON', 'AILLERON', 'AIRWAY', 'ALCHEMIA', 'ALIOR', 'ALTA', 'ALTUSTFI', 'ALUMETAL', 'AMBRA', 'AMICA', 'AMPLI', 'AMREST', 'APATOR', 'APLISENS', 'APSENERGY', 'ARCHICOM', 'ARCTIC', 'ARCUS', 'ARTERIA', 'ARTIFEX', 'ASBIS', 'ASMGROUP', 'ASSECOBS', 'ASSECOPOL', 'ASSECOSEE', 'ASTARTA', 'ATAL', 'ATENDE', 'ATLANTAPL', 'ATLANTIS', 'ATLASEST', 'ATM', 'ATMGRUPA', 'ATREM', 'AUGA', 'AUTOPARTN', 'AWBUD', 'BAHOLDING', 'BALTONA', 'BBIDEV', 'BEDZIN', 'BENEFIT', 'BERLING', 'BEST', 'BETACOM', 'BIK', 'BIOMEDLUB', 'BIOTON', 'BNPPPL', 'BOGDANKA', 'BOOMBIT', 'BORYSZEW', 'BOS', 'BOWIM', 'BRASTER', 'BSCDRUK', 'BUDIMEX', 'BUDOPOL', 'BUMECH', 'BUWOG', 'CALATRAVA', 'CAPITAL', 'CCC', 'CCENERGY', 'CDPROJEKT', 'CDRL', 'CELTIC', 'CEZ', 'CFI', 'CHEMOS', 'CIECH', 'CIGAMES', 'CITYSERV', 'CLNPHARMA', 'CNT', 'COALENERG', 'COGNOR', 'COMARCH', 'COMP', 'COMPERIA', 'CORMAY', 'CPGROUP', 'CUBEITG', 'CYFRPLSAT', 'CZTOREBKA', 'DATAWALK', 'DEBICA', 'DECORA', 'DEKPOL', 'DELKO', 'DEVELIA', 'DGA', 'DIGITREE', 'DINOPL', 'DOMDEV', 'DREWEX', 'DROP', 'DROZAPOL', 'ECHO', 'EDINVEST', 'EFEKT', 'EKOEXPORT', 'ELBUDOWA', 'ELEKTROTI', 'ELEMENTAL', 'ELKOP', 'ELZAB', 'EMCINSMED', 'ENAP', 'ENEA', 'ENELMED', 'ENERGA', 'ENERGOINS', 'ENTER', 'ERBUD', 'ERG', 'ERGIS', 'ESOTIQ', 'ESSYSTEM', 'ESTAR', 'EUCO', 'EUROCASH', 'EUROHOLD', 'EUROTEL', 'EVEREST', 'FAMUR', 'FASING', 'FASTFIN', 'FEERUM', 'FENGHUA', 'FERRO', 'FERRUM', 'FMG', 'FON', 'FORTE', 'GETBACK', 'GETIN', 'GETINOBLE', 'GINOROSSI', 'GLCOSMED', 'GOBARTO', 'GORENJE', 'GPRE', 'GPW', 'GROCLIN', 'GRODNO', 'GRUPAAZOTY', 'GTC', 'HANDLOWY', 'HARPER', 'HELIO', 'HERKULES', 'HMINWEST', 'HOLLYWOOD', 'HUBSTYLE', 'HYDROTOR', 'HYPERION', 'I2DEV', 'IALBGR', 'IBSM', 'IDEABANK', 'IDEON', 'IDMSA', 'IFCAPITAL', 'IFIRMA', 'IFSA', 'IIAAV', 'IMCOMPANY', 'IMMOBILE', 'IMPEL', 'IMPERA', 'IMPEXMET', 'IMS', 'INC', 'INDATA', 'INDYGO', 'INDYKPOL', 'INGBSK', 'INPRO', 'INSTALKRK', 'INTERAOLT', 'INTERBUD', 'INTERCARS', 'INTERFERI', 'INTERSPPL', 'INTROL', 'INVISTA', 'IPOPEMA', 'IQP', 'ITMTRADE', 'IZOBLOK', 'IZOLACJA', 'IZOSTAL', 'JHMDEV', 'JJAUTO', 'JSW', 'JWCONSTR', 'JWWINVEST', 'K2INTERNT', 'KANIA', 'KBDOM', 'KCI', 'KDMSHIPNG', 'KERNEL', 'KETY', 'KGHM', 'KGL', 'KINOPOL', 'KOGENERA', 'KOMPAP', 'KOMPUTRON', 'KONSSTALI', 'KPPD', 'KRAKCHEM', 'KREC', 'KREDYTIN', 'KREZUS', 'KRKA', 'KRUK', 'KRUSZWICA', 'KRVITAMIN', 'KSGAGRO', 'LABOPRINT', 'LARK', 'LARQ', 'LENA', 'LENTEX', 'LIBET', 'LIVECHAT', 'LOKUM', 'LOTOS', 'LPP', 'LSISOFT', 'LUBAWA', 'MABION', 'MAKARONPL', 'MANGATA', 'MARVIPOL', 'MASTERPHA', 'MAXCOM', 'MBANK', 'MBWS', 'MCI', 'MDIENERGIA', 'MEDIACAP', 'MEDIATEL', 'MEDICALG', 'MEGARON', 'MENNICA', 'MERCATOR', 'MERCOR', 'MEXPOLSKA', 'MFO', 'MILKILAND', 'MILLENNIUM', 'MIRACULUM', 'MIRBUD', 'MLPGROUP', 'MLSYSTEM', 'MOBRUK', 'MOJ', 'MOL', 'MONNARI', 'MORIZON', 'MOSTALPLC', 'MOSTALWAR', 'MOSTALZAB', 'MUZA', 'MWTRADE', 'NANOGROUP', 'NETIA', 'NETMEDIA', 'NEUCA', 'NEWAG', 'NEWWORLDR', 'NORTCOAST', 'NOVATURAS', 'NOVITA', 'NOWAGALA', 'NTTSYSTEM', 'OAT', 'ODLEWNIE', 'OEX', 'OPENFIN', 'OPONEO.PL', 'OPTEAM', 'ORANGEPL', 'ORBIS', 'ORCOGROUP', 'ORION', 'ORZBIALY', 'OTLOG', 'OTMUCHOW', 'OVOSTAR', 'PAMAPOL', 'PANOVA', 'PATENTUS', 'PBG', 'PBKM', 'PBSFINANSE', 'PCCEXOL', 'PCCROKITA', 'PCGUARD', 'PCM', 'PEIXIN', 'PEKABEX', 'PEKAO', 'PEMANAGER', 'PEMUG', 'PEP', 'PEPEES', 'PFLEIDER', 'PGE', 'PGNIG', 'PGO', 'PGSSOFT', 'PHARMENA', 'PHN', 'PKNORLEN', 'PKOBP', 'PKPCARGO', 'PLASTBOX', 'PLATYNINW', 'PLAY', 'PLAYWAY', 'PLAZACNTR', 'PMPG', 'POLICE', 'POLIMEXMS', 'POLNORD', 'POLWAX', 'POZBUD', 'PRAGMAFA', 'PRAGMAINK', 'PRAIRIE', 'PRIMAMODA', 'PRIMETECH', 'PROCAD', 'PROCHEM', 'PROCHNIK', 'PROJPRZEM', 'PROTEKTOR', 'PROVIDENT', 'PULAWY', 'PZU', 'QUANTUM', 'QUERCUS', 'QUMAK', 'R22', 'RADPOL', 'RAFAKO', 'RAFAMET', 'RAINBOW', 'RANKPROGR', 'RAWLPLUG', 'REDAN', 'REDWOOD', 'REGNON', 'REINHOLD', 'REINO', 'RELPOL', 'REMAK', 'RESBUD', 'RONSON', 'ROPCZYCE', 'RUBICON', 'RYVU', 'SADOVAYA', 'SANOK', 'SANPL', 'SANPL2', 'SANTANDER', 'SANWIL', 'SCOPAK', 'SECOGROUP', 'SEKO', 'SELENAFM', 'SELVITA', 'SERINUS', 'SESCOM', 'SETANTA', 'SFINKS', 'SILVAIR-REGS', 'SILVANO', 'SIMPLE', 'SKARBIEC', 'SKOTAN', 'SKYLINE', 'SLEEPZAG', 'SNIEZKA', 'SOHODEV', 'SOLAR', 'SONEL', 'SOPHARMA', 'STALEXP', 'STALPROD', 'STALPROFI', 'STAPORKOW', 'STARHEDGE', 'STELMET', 'SUNEX', 'SUWARY', 'SWISSMED', 'SYGNITY', 'SYNEKTIK', 'TALANX', 'TALEX', 'TARCZYNSKI', 'TATRY', 'TAURONPE', 'TBULL', 'TERMOREX', 'TESGAS', 'TIM', 'TORPOL', 'TOWERINVT', 'TOYA', 'TRAKCJA', 'TRANSPOL', 'TRITON', 'TSGAMES', 'TXM', 'ULMA', 'ULTGAMES', 'UNIBEP', 'UNICREDIT', 'UNIMA', 'UNIMOT', 'URSUS', 'VANTAGE', 'VENTUREIN', 'VIGOSYS', 'VINDEXUS', 'VISTAL', 'VIVID', 'VOTUM', 'VOXEL', 'VRG', 'WADEX', 'WARIMPEX', 'WASKO', 'WAWEL', 'WIELTON', 'WIKANA', 'WILBO', 'WINVEST', 'WIRTUALNA', 'WITTCHEN', 'WOJAS', 'WORKSERV', 'XTB', 'XTPL', 'YOLO', 'ZAMET', 'ZASTAL', 'ZEPAK', 'ZPUE', 'ZREMB', 'ZUE', 'ZYWIEC', 'AATHOLD', 'ACE', 'ADVADIS', 'AGROWILL', 'ALMA', 'ALTERCO', 'ASSECOSLO', 'AURUM', 'AVIAAML', 'AVIASG', 'B3SYSTEM', 'BAKALLAND', 'BANKBPH', 'BGZBNPP', 'BIPROMET', 'BMPAG', 'BNPPL', 'BRIJU', 'BYTOM', 'BZWBK', 'CASHFLOW', 'COLIAN', 'DSS', 'DTP', 'DUDA', 'DUON', 'ECARD', 'EFH', 'EKANCELAR', 'EMPERIA', 'EUIMPLANT', 'EXILLON', 'FAM', 'FARMACOL', 'FORTUNA', 'FOTA', 'GANT', 'GLOBCITYHD', 'GRAAL', 'GRAJEWO', 'GRAVITON', 'GREMMEDIA', 'HAWE', 'HUTMEN', 'INPOST', 'INTEGERPL', 'IVMX', 'JUPITER', 'KERDOS', 'KOFOL', 'KOFOLA', 'KOPEX', 'LCCORP', 'MAGELLAN', 'MCLOGIC', 'MIDAS', 'MIT', 'MNI', 'MSXRESOUR', 'NFIEMF', 'OLYMPIC', 'ONE2ONE', 'PAGED', 'PBOANIOLA', 'PCCINTER', 'PEGAS', 'PEKAES', 'PELION', 'PETROLINV', 'PGODLEW', 'POLCOLORIT', 'POLMED', 'POLNA', 'POLYMETAL', 'PRESCO', 'PSG', 'PWRMEDIA', 'ROBYG', 'ROVESE', 'SKOK', 'SMT', 'SYNTHOS', 'TELL', 'TERESA', 'TFONE', 'TOPMEDICA', 'TRAVELPL', 'TVN', 'UNIWHEELS', 'VARIANT', 'VISTULA', 'WDX', 'WESTAISIC', 'WISTIL', 'YAWAL', 'ZETKAMA', '3RGAMES', 'AIGAMES', 'ALLEGRO', 'ALTUS', 'ANSWEAR', 'BIGCHEESE', 'BIOPLANET', 'BRAND24', 'CAPTORTX', 'CAVATINA', 'COMPREMUM', 'CREEPYJAR', 'DADELO', 'GAMEOPS', 'GAMFACTOR', 'GIGROUP', 'GREENX', 'GRUPRACUJ', 'HUUUGE', 'IMPERIO', 'K2HOLDING', 'MANYDEV', 'MEDINICE', 'NEXITY', 'NOVAVISGR', 'ONDE', 'PCFGROUP', 'PEPCO', 'PGFGROUP', 'PHOTON', 'POLTREG', 'PUNKPIRAT', 'PURE', 'SATIS', 'SHOPER', 'STSHOLDING', 'VERCOM', 'APLITT', 'BACD', 'BZWBK2', 'GEKOPLAST', 'SARE', 'ARMATURA', 'BARLINEK', 'BGZ', 'BLACKLION', 'CAMMEDIA', 'DMWDM', 'DRAGOWSKI', 'ENERGOPLD', 'GREENECO', 'INTAKUS', 'INVENTUM', 'MEWA', 'MIESZKO', 'MISPOL', 'NOKAUT', 'NORDEABP', 'NOVAKBM', 'POINTGROUP', 'PPG', 'PTI', 'SKYSTONE', 'SOBIESKI', 'TELEPOLSKA', 'WANDALEX', 'WDMCP', 'BOMI', 'BUDVARCEN', 'CCIINT', 'CEDC', 'COMPLEX', 'EKO', 'EUROMARK', 'GLOBALNRG', 'HBPOLSKA', 'HYGIENIKA', 'IDEATFI', 'INVESTCON', 'KREDYTB', 'LSTCAPITA', 'MAKRUM', 'MOSTALEXP', 'PERMEDIA', 'POLAQUA', 'POLJADLO', 'POLLENAE', 'ZELMER', 'GREMINWES'])\n",
            "                                                        2014      2015  \\\n",
            "Lp./ No                                                  376       424   \n",
            "Kod isin / Isin                                          NaN       NaN   \n",
            "Wartość obrotów (mln zł)/ Turnover value (PLN m...      3.85      1.51   \n",
            "Udział w obrotach / Share in turnover (%)           0.001751  0.000007   \n",
            "Roczny wskaźnik obrotu/ Annual turnover ratio (%)      13.22       4.4   \n",
            "\n",
            "                                                       2016      2017  \\\n",
            "Lp./ No                                                 351       478   \n",
            "Kod isin / Isin                                         NaN       NaN   \n",
            "Wartość obrotów (mln zł)/ Turnover value (PLN m...     4.06      0.21   \n",
            "Udział w obrotach / Share in turnover (%)           0.00002  0.000001   \n",
            "Roczny wskaźnik obrotu/ Annual turnover ratio (%)      8.88      1.08   \n",
            "\n",
            "                                                            2018  \\\n",
            "Lp./ No                                                      470   \n",
            "Kod isin / Isin                                     PLNFI0800016   \n",
            "Wartość obrotów (mln zł)/ Turnover value (PLN m...          0.28   \n",
            "Udział w obrotach / Share in turnover (%)               0.000001   \n",
            "Roczny wskaźnik obrotu/ Annual turnover ratio (%)           0.63   \n",
            "\n",
            "                                                            2019  \\\n",
            "Lp./ No                                                      438   \n",
            "Kod isin / Isin                                     PLNFI0800016   \n",
            "Wartość obrotów (mln zł)/ Turnover value (PLN m...          0.26   \n",
            "Udział w obrotach / Share in turnover (%)               0.000001   \n",
            "Roczny wskaźnik obrotu/ Annual turnover ratio (%)            0.7   \n",
            "\n",
            "                                                            2020  \\\n",
            "Lp./ No                                                      423   \n",
            "Kod isin / Isin                                     PLNFI0800016   \n",
            "Wartość obrotów (mln zł)/ Turnover value (PLN m...          0.15   \n",
            "Udział w obrotach / Share in turnover (%)               0.000001   \n",
            "Roczny wskaźnik obrotu/ Annual turnover ratio (%)            0.4   \n",
            "\n",
            "                                                            2021          2022  \n",
            "Lp./ No                                                      409           423  \n",
            "Kod isin / Isin                                     PLNFI0800016  PLNFI0800016  \n",
            "Wartość obrotów (mln zł)/ Turnover value (PLN m...         0.397         0.312  \n",
            "Udział w obrotach / Share in turnover (%)               0.000001      0.000001  \n",
            "Roczny wskaźnik obrotu/ Annual turnover ratio (%)            0.0           0.7  \n"
          ]
        }
      ]
    }
  ]
}