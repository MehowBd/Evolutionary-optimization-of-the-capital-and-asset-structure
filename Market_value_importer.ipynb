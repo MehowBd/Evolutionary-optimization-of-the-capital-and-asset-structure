{
  "cells": [
    {
      "cell_type": "code",
      "execution_count": 93,
      "metadata": {
        "colab": {
          "base_uri": "https://localhost:8080/"
        },
        "id": "41iops5KCqJY",
        "outputId": "d97748d6-13c2-459c-8be9-2b45d5706248"
      },
      "outputs": [
        {
          "name": "stdout",
          "output_type": "stream",
          "text": [
            "WARNING *** file size (1183124) not 512 + multiple of sector size (512)\n",
            "WARNING *** OLE2 inconsistency: SSCS size is 0 but SSAT size is non-zero\n",
            "WARNING *** file size (1183124) not 512 + multiple of sector size (512)\n",
            "WARNING *** OLE2 inconsistency: SSCS size is 0 but SSAT size is non-zero\n",
            "WARNING *** file size (1183124) not 512 + multiple of sector size (512)\n",
            "WARNING *** OLE2 inconsistency: SSCS size is 0 but SSAT size is non-zero\n",
            "WARNING *** file size (1183124) not 512 + multiple of sector size (512)\n",
            "WARNING *** OLE2 inconsistency: SSCS size is 0 but SSAT size is non-zero\n",
            "WARNING *** file size (1183124) not 512 + multiple of sector size (512)\n",
            "WARNING *** OLE2 inconsistency: SSCS size is 0 but SSAT size is non-zero\n"
          ]
        }
      ],
      "source": [
        "import pandas as pd\n",
        "import xlrd\n",
        "import os\n",
        "import warnings\n",
        "\n",
        "file_paths = [\"Rocznik_2014__GR.xls\", \"Rocznik_2015__GR.xls\", \"Rocznik_2016__GR.xls\", \"Rocznik_2017_GR.xls\", \"Rocznik_2018_GR.xls\", \"Rocznik_2019_GR.xls\",\n",
        "              \"Rocznik_2020_GR.xls\", \"Rocznik_2021_GR.xls\", \"Rocznik_2022_GR.xls\"]\n",
        "\n",
        "# map files to tab names [tabs are mixed between years]\n",
        "files_to_tab_names = dict()\n",
        "headers = dict()\n",
        "for ind, path in enumerate(file_paths):\n",
        "  files_to_tab_names[path] = dict()\n",
        "  headers[path] = dict()\n",
        "\n",
        "  if ind <= 3:\n",
        "    files_to_tab_names[path][\"wartosci_akcji\"] = \"Tab 13\"\n",
        "    files_to_tab_names[path][\"najwyzsze_sesyjne_obroty\"] = \"Tab 14\"\n",
        "    files_to_tab_names[path][\"stopy_zwrotu\"] = \"Tab 15\"\n",
        "    files_to_tab_names[path][\"najwyzsze_stopy_zwrotu\"] = \"Tab 16\"\n",
        "  else:\n",
        "    files_to_tab_names[path][\"wartosci_akcji\"] = \"Tab 8\"\n",
        "    files_to_tab_names[path][\"najwyzsze_sesyjne_obroty\"] = \"Tab 9\"\n",
        "    files_to_tab_names[path][\"stopy_zwrotu\"] = \"Tab 10\"\n",
        "    files_to_tab_names[path][\"najwyzsze_stopy_zwrotu\"] = \"Tab 11\"\n",
        "\n",
        "  if ind <= 7:\n",
        "    headers[path][\"wartosci_akcji\"] = [3]\n",
        "  else:\n",
        "    headers[path][\"wartosci_akcji\"] = [3]\n",
        "\n",
        "def read_xls_files(file_paths):\n",
        "\n",
        "    warnings.filterwarnings(\"ignore\")\n",
        "    df_wartosci_akcji = pd.DataFrame()\n",
        "    df_sesyjne_obroty = pd.DataFrame()\n",
        "    df_stopy_zwrotu = pd.DataFrame()\n",
        "    df_najwyzsze_stopy_zwrotu = pd.DataFrame()\n",
        "\n",
        "    for file_path in file_paths:\n",
        "        if os.path.exists(file_path):\n",
        "            xls = xlrd.open_workbook(file_path)\n",
        "            for sheet_name in xls.sheet_names():\n",
        "\n",
        "                  if sheet_name == files_to_tab_names[file_path][\"wartosci_akcji\"]:\n",
        "                    df = pd.read_excel(file_path, sheet_name=sheet_name, header=headers[path][\"wartosci_akcji\"], usecols = range(11))\n",
        "                    df_wartosci_akcji = pd.concat([df_wartosci_akcji, df], ignore_index=True, axis = 0)\n",
        "\n",
        "                  elif sheet_name == files_to_tab_names[file_path][\"najwyzsze_sesyjne_obroty\"]:\n",
        "                    df = pd.read_excel(file_path, sheet_name=sheet_name, header=[2], usecols=range(5))\n",
        "                    df_sesyjne_obroty = pd.concat([df_sesyjne_obroty, df], ignore_index=True, axis = 0)\n",
        "\n",
        "                  elif sheet_name == files_to_tab_names[file_path][\"stopy_zwrotu\"]:\n",
        "                    df = pd.read_excel(file_path, sheet_name=sheet_name, header=[2,3,4])\n",
        "                    df_stopy_zwrotu = pd.concat([df_stopy_zwrotu, df], ignore_index=True, axis = 0)\n",
        "\n",
        "                  elif sheet_name == files_to_tab_names[file_path][\"najwyzsze_stopy_zwrotu\"]:\n",
        "                    df = pd.read_excel(file_path, sheet_name=sheet_name, header=[2], usecols=range(5))\n",
        "                    df_najwyzsze_stopy_zwrotu = pd.concat([df_najwyzsze_stopy_zwrotu, df], ignore_index=True, axis = 0)\n",
        "\n",
        "        else:\n",
        "            print(f\"File not found: {file_path}\")\n",
        "\n",
        "    return df_wartosci_akcji, df_sesyjne_obroty, df_stopy_zwrotu, df_najwyzsze_stopy_zwrotu\n",
        "\n",
        "# Example usage:\n",
        "df_wartosci_akcji, df_sesyjne_obroty, df_stopy_zwrotu, df_najwyzsze_stopy_zwrot = read_xls_files(file_paths)"
      ]
    },
    {
      "cell_type": "code",
      "execution_count": 136,
      "metadata": {
        "colab": {
          "base_uri": "https://localhost:8080/"
        },
        "id": "9CYdrMji8t14",
        "outputId": "d091f0a0-5740-4fb0-c256-5702c5c41404"
      },
      "outputs": [
        {
          "name": "stdout",
          "output_type": "stream",
          "text": [
            "WARNING *** file size (1183124) not 512 + multiple of sector size (512)\n",
            "WARNING *** OLE2 inconsistency: SSCS size is 0 but SSAT size is non-zero\n",
            "dict_keys(['2020', '2016', '2022', '2018', '2015', '2014', '2021', '2017', '2019'])\n"
          ]
        }
      ],
      "source": [
        "def read_excel_files(path):\n",
        "    excel_data = {}\n",
        "    for file in os.listdir(path):\n",
        "        if file.endswith(\".xls\"):\n",
        "            year = file.split('_')[1]  # Extracting year from file name\n",
        "            excel_data[year] = {}\n",
        "            xls = pd.ExcelFile(os.path.join(path, file))\n",
        "            for sheet_name in xls.sheet_names:\n",
        "\n",
        "              if sheet_name == files_to_tab_names[file][\"wartosci_akcji\"]:\n",
        "                excel_data[year][\"wartosci_akcji\"] = pd.read_excel(xls, sheet_name=sheet_name, header=headers[file][\"wartosci_akcji\"], usecols = range(11))\n",
        "\n",
        "              # elif sheet_name == files_to_tab_names[file][\"najwyzsze_sesyjne_obroty\"]:\n",
        "              #   excel_data[year][\"najwyzsze_sesyjne_obroty\"] = pd.read_excel(file, sheet_name=sheet_name, header=[2], usecols=range(5))\n",
        "\n",
        "              # elif sheet_name == files_to_tab_names[file][\"stopy_zwrotu\"]:\n",
        "              #   excel_data[year][\"stopy_zwrotu\"] = pd.read_excel(file, sheet_name=sheet_name, header=[2,3,4])\n",
        "\n",
        "              # elif sheet_name == files_to_tab_names[file][\"najwyzsze_stopy_zwrotu\"]:\n",
        "              #   excel_data[year][\"najwyzsze_stopy_zwrotu\"] = pd.read_excel(file, sheet_name=sheet_name, header=[2], usecols=range(5))\n",
        "    print(excel_data.keys())\n",
        "    return excel_data\n",
        "excel_data = read_excel_files(\"/Market_Value\")"
      ]
    },
    {
      "cell_type": "code",
      "execution_count": 137,
      "metadata": {
        "id": "u0V8_H0TFc0v"
      },
      "outputs": [],
      "source": [
        "def separate_data_by_company(excel_data):\n",
        "\n",
        "    company_dfs = {}\n",
        "    for year, sheets in excel_data.items():\n",
        "        for sheet_name, df in sheets.items():\n",
        "            company_col = None\n",
        "            if 'Lp./ No' in df.columns:\n",
        "              df.drop(columns = ['Lp./ No'])\n",
        "            for col in df.columns:\n",
        "                if 'Spółka/ Company' in col:\n",
        "                    company_col = col\n",
        "                    break\n",
        "                elif 'Akcje/ Shares' in col:\n",
        "                    company_col = col\n",
        "                    break\n",
        "                elif 'Spółka/Company' in col:\n",
        "                    company_col = col\n",
        "                    break\n",
        "                elif 'Akcje/Shares' in col:\n",
        "                    company_col = col\n",
        "                    break\n",
        "                elif 'Spółka / Company' in col:\n",
        "                    company_col = col\n",
        "                    break\n",
        "                elif 'Akcje / Shares' in col:\n",
        "                    company_col = col\n",
        "                    break\n",
        "\n",
        "            if company_col is None:\n",
        "                raise ValueError(f\"Company column not found in the DataFrame, sheet_name={sheet_name}, year = {year}\")\n",
        "\n",
        "            for company, group in df.groupby(by=company_col):\n",
        "                if company not in company_dfs:\n",
        "                    # Initialize DataFrame with columns corresponding to each year\n",
        "                    company_dfs[company] = pd.DataFrame(columns=excel_data.keys())\n",
        "                # Add data for the company and year, transposing the group\n",
        "                company_dfs[company][year] = group.drop(columns=[company_col]).T\n",
        "    return company_dfs\n",
        "company_data = separate_data_by_company(excel_data)"
      ]
    },
    {
      "cell_type": "code",
      "execution_count": 138,
      "metadata": {
        "colab": {
          "base_uri": "https://localhost:8080/"
        },
        "id": "PVbTcMjb_wsA",
        "outputId": "d4de4d3e-ca03-48bd-9a0d-0fc7a80a3dbb"
      },
      "outputs": [
        {
          "name": "stdout",
          "output_type": "stream",
          "text": [
            "Index(['Lp./ No', 'Kod isin / Isin',\n",
            "       'Wartość obrotów (mln zł)/ Turnover value (PLN million)',\n",
            "       'Udział w obrotach / Share in turnover (%)',\n",
            "       'Roczny wskaźnik obrotu/ Annual turnover ratio (%) ',\n",
            "       'Średni wolumen obrotu na sesję (akcje)/ Average volume per session (shares)',\n",
            "       'Średnia liczba transakcji/ Average number of transactions per session',\n",
            "       'Średnia liczba zleceń/ Average number of orders per session',\n",
            "       'Unnamed: 9',\n",
            "       'Wartość obrotów  (mln zł)/ Turnover value (PLN million)'],\n",
            "      dtype='object')\n"
          ]
        }
      ],
      "source": [
        "print(company_data['06MAGNA     '].index)"
      ]
    },
    {
      "cell_type": "code",
      "execution_count": 139,
      "metadata": {
        "colab": {
          "base_uri": "https://localhost:8080/"
        },
        "id": "XjhqLpofPjoe",
        "outputId": "bd0054fc-a0d2-4b8a-8cea-e8557103b168"
      },
      "outputs": [
        {
          "name": "stdout",
          "output_type": "stream",
          "text": [
            "                                                            2020 2016  \\\n",
            "Lp./ No                                                      472  NaN   \n",
            "Kod isin / Isin                                     PLNFI0600010  NaN   \n",
            "Wartość obrotów (mln zł)/ Turnover value (PLN m...           0.0  NaN   \n",
            "Udział w obrotach / Share in turnover (%)                    0.0  NaN   \n",
            "Roczny wskaźnik obrotu/ Annual turnover ratio (%)            0.0  NaN   \n",
            "\n",
            "                                                            2022 2018 2015  \\\n",
            "Lp./ No                                                      145  NaN  NaN   \n",
            "Kod isin / Isin                                     PLNFI0600010  NaN  NaN   \n",
            "Wartość obrotów (mln zł)/ Turnover value (PLN m...        72.519  NaN  NaN   \n",
            "Udział w obrotach / Share in turnover (%)               0.000232  NaN  NaN   \n",
            "Roczny wskaźnik obrotu/ Annual turnover ratio (%)          156.8  NaN  NaN   \n",
            "\n",
            "                                                   2014          2021 2017  \\\n",
            "Lp./ No                                             NaN           140  NaN   \n",
            "Kod isin / Isin                                     NaN  PLNFI0600010  NaN   \n",
            "Wartość obrotów (mln zł)/ Turnover value (PLN m...  NaN        56.545  NaN   \n",
            "Udział w obrotach / Share in turnover (%)           NaN       0.00019  NaN   \n",
            "Roczny wskaźnik obrotu/ Annual turnover ratio (%)   NaN          0.02  NaN   \n",
            "\n",
            "                                                            2019  \n",
            "Lp./ No                                                      428  \n",
            "Kod isin / Isin                                     PLNFI0600010  \n",
            "Wartość obrotów (mln zł)/ Turnover value (PLN m...          0.38  \n",
            "Udział w obrotach / Share in turnover (%)               0.000002  \n",
            "Roczny wskaźnik obrotu/ Annual turnover ratio (%)            8.7  \n"
          ]
        }
      ],
      "source": [
        "print(company_data['06MAGNA     '].head())"
      ]
    }
  ],
  "metadata": {
    "colab": {
      "provenance": []
    },
    "kernelspec": {
      "display_name": "Python 3",
      "name": "python3"
    },
    "language_info": {
      "name": "python"
    }
  },
  "nbformat": 4,
  "nbformat_minor": 0
}
