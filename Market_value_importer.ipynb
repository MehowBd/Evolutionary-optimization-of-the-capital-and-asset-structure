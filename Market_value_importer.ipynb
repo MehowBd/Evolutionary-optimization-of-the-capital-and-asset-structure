{
 "cells": [
  {
   "cell_type": "code",
   "execution_count": 7,
   "metadata": {
    "id": "xN6-ftbcQB3b"
   },
   "outputs": [],
   "source": [
    "import pandas as pd\n",
    "import xlrd\n",
    "import os\n",
    "import warnings\n",
    "\n",
    "file_paths = [\"Rocznik_2014__GR.xls\", \"Rocznik_2015__GR.xls\", \"Rocznik_2016__GR.xls\", \"Rocznik_2017_GR.xls\", \"Rocznik_2018_GR.xls\", \"Rocznik_2019_GR.xls\",\n",
    "              \"Rocznik_2020_GR.xls\", \"Rocznik_2021_GR.xls\", \"Rocznik_2022_GR.xls\"]\n",
    "\n",
    "# map files to tab names [tabs are mixed between years]\n",
    "files_to_tab_names = dict()\n",
    "headers = dict()\n",
    "for ind, path in enumerate(file_paths):\n",
    "  files_to_tab_names[path] = dict()\n",
    "  headers[path] = dict()\n",
    "\n",
    "  if ind <= 3:\n",
    "    files_to_tab_names[path][\"market_value\"] = \"Tab 17\"\n",
    "  else:\n",
    "    files_to_tab_names[path][\"market_value\"] = \"Tab 12\""
   ]
  },
  {
   "cell_type": "code",
   "execution_count": 8,
   "metadata": {},
   "outputs": [
    {
     "name": "stdout",
     "output_type": "stream",
     "text": [
      "Requirement already satisfied: xlrd in c:\\users\\bialo\\appdata\\local\\programs\\python\\python310\\lib\\site-packages (2.0.1)Note: you may need to restart the kernel to use updated packages.\n",
      "\n"
     ]
    }
   ],
   "source": [
    "pip install xlrd"
   ]
  },
  {
   "cell_type": "code",
   "execution_count": 11,
   "metadata": {
    "colab": {
     "base_uri": "https://localhost:8080/"
    },
    "id": "s1V-aiULQOnZ",
    "outputId": "7b2eba1b-7dc4-4d78-855e-8c56a53f5a8e"
   },
   "outputs": [
    {
     "name": "stderr",
     "output_type": "stream",
     "text": [
      "C:\\Users\\bialo\\AppData\\Local\\Temp\\ipykernel_9224\\603508055.py:11: FutureWarning: Series.__getitem__ treating keys as positions is deprecated. In a future version, integer keys will always be treated as labels (consistent with DataFrame behavior). To access a value by position, use `ser.iloc[pos]`\n",
      "  company = row[1]\n",
      "C:\\Users\\bialo\\AppData\\Local\\Temp\\ipykernel_9224\\603508055.py:17: FutureWarning: Series.__getitem__ treating keys as positions is deprecated. In a future version, integer keys will always be treated as labels (consistent with DataFrame behavior). To access a value by position, use `ser.iloc[pos]`\n",
      "  excel_data[company][year] = row[3]\n",
      "C:\\Users\\bialo\\AppData\\Local\\Temp\\ipykernel_9224\\603508055.py:11: FutureWarning: Series.__getitem__ treating keys as positions is deprecated. In a future version, integer keys will always be treated as labels (consistent with DataFrame behavior). To access a value by position, use `ser.iloc[pos]`\n",
      "  company = row[1]\n",
      "C:\\Users\\bialo\\AppData\\Local\\Temp\\ipykernel_9224\\603508055.py:17: FutureWarning: Series.__getitem__ treating keys as positions is deprecated. In a future version, integer keys will always be treated as labels (consistent with DataFrame behavior). To access a value by position, use `ser.iloc[pos]`\n",
      "  excel_data[company][year] = row[3]\n",
      "C:\\Users\\bialo\\AppData\\Local\\Temp\\ipykernel_9224\\603508055.py:11: FutureWarning: Series.__getitem__ treating keys as positions is deprecated. In a future version, integer keys will always be treated as labels (consistent with DataFrame behavior). To access a value by position, use `ser.iloc[pos]`\n",
      "  company = row[1]\n",
      "C:\\Users\\bialo\\AppData\\Local\\Temp\\ipykernel_9224\\603508055.py:17: FutureWarning: Series.__getitem__ treating keys as positions is deprecated. In a future version, integer keys will always be treated as labels (consistent with DataFrame behavior). To access a value by position, use `ser.iloc[pos]`\n",
      "  excel_data[company][year] = row[3]\n",
      "C:\\Users\\bialo\\AppData\\Local\\Temp\\ipykernel_9224\\603508055.py:11: FutureWarning: Series.__getitem__ treating keys as positions is deprecated. In a future version, integer keys will always be treated as labels (consistent with DataFrame behavior). To access a value by position, use `ser.iloc[pos]`\n",
      "  company = row[1]\n",
      "C:\\Users\\bialo\\AppData\\Local\\Temp\\ipykernel_9224\\603508055.py:17: FutureWarning: Series.__getitem__ treating keys as positions is deprecated. In a future version, integer keys will always be treated as labels (consistent with DataFrame behavior). To access a value by position, use `ser.iloc[pos]`\n",
      "  excel_data[company][year] = row[3]\n"
     ]
    },
    {
     "name": "stdout",
     "output_type": "stream",
     "text": [
      "WARNING *** file size (1183124) not 512 + multiple of sector size (512)\n",
      "WARNING *** OLE2 inconsistency: SSCS size is 0 but SSAT size is non-zero\n"
     ]
    },
    {
     "name": "stderr",
     "output_type": "stream",
     "text": [
      "C:\\Users\\bialo\\AppData\\Local\\Temp\\ipykernel_9224\\603508055.py:11: FutureWarning: Series.__getitem__ treating keys as positions is deprecated. In a future version, integer keys will always be treated as labels (consistent with DataFrame behavior). To access a value by position, use `ser.iloc[pos]`\n",
      "  company = row[1]\n",
      "C:\\Users\\bialo\\AppData\\Local\\Temp\\ipykernel_9224\\603508055.py:15: FutureWarning: Series.__getitem__ treating keys as positions is deprecated. In a future version, integer keys will always be treated as labels (consistent with DataFrame behavior). To access a value by position, use `ser.iloc[pos]`\n",
      "  excel_data[company][year] = row[5]\n",
      "C:\\Users\\bialo\\AppData\\Local\\Temp\\ipykernel_9224\\603508055.py:11: FutureWarning: Series.__getitem__ treating keys as positions is deprecated. In a future version, integer keys will always be treated as labels (consistent with DataFrame behavior). To access a value by position, use `ser.iloc[pos]`\n",
      "  company = row[1]\n",
      "C:\\Users\\bialo\\AppData\\Local\\Temp\\ipykernel_9224\\603508055.py:15: FutureWarning: Series.__getitem__ treating keys as positions is deprecated. In a future version, integer keys will always be treated as labels (consistent with DataFrame behavior). To access a value by position, use `ser.iloc[pos]`\n",
      "  excel_data[company][year] = row[5]\n",
      "C:\\Users\\bialo\\AppData\\Local\\Temp\\ipykernel_9224\\603508055.py:11: FutureWarning: Series.__getitem__ treating keys as positions is deprecated. In a future version, integer keys will always be treated as labels (consistent with DataFrame behavior). To access a value by position, use `ser.iloc[pos]`\n",
      "  company = row[1]\n",
      "C:\\Users\\bialo\\AppData\\Local\\Temp\\ipykernel_9224\\603508055.py:15: FutureWarning: Series.__getitem__ treating keys as positions is deprecated. In a future version, integer keys will always be treated as labels (consistent with DataFrame behavior). To access a value by position, use `ser.iloc[pos]`\n",
      "  excel_data[company][year] = row[5]\n",
      "C:\\Users\\bialo\\AppData\\Local\\Temp\\ipykernel_9224\\603508055.py:11: FutureWarning: Series.__getitem__ treating keys as positions is deprecated. In a future version, integer keys will always be treated as labels (consistent with DataFrame behavior). To access a value by position, use `ser.iloc[pos]`\n",
      "  company = row[1]\n",
      "C:\\Users\\bialo\\AppData\\Local\\Temp\\ipykernel_9224\\603508055.py:15: FutureWarning: Series.__getitem__ treating keys as positions is deprecated. In a future version, integer keys will always be treated as labels (consistent with DataFrame behavior). To access a value by position, use `ser.iloc[pos]`\n",
      "  excel_data[company][year] = row[5]\n",
      "C:\\Users\\bialo\\AppData\\Local\\Temp\\ipykernel_9224\\603508055.py:11: FutureWarning: Series.__getitem__ treating keys as positions is deprecated. In a future version, integer keys will always be treated as labels (consistent with DataFrame behavior). To access a value by position, use `ser.iloc[pos]`\n",
      "  company = row[1]\n",
      "C:\\Users\\bialo\\AppData\\Local\\Temp\\ipykernel_9224\\603508055.py:15: FutureWarning: Series.__getitem__ treating keys as positions is deprecated. In a future version, integer keys will always be treated as labels (consistent with DataFrame behavior). To access a value by position, use `ser.iloc[pos]`\n",
      "  excel_data[company][year] = row[5]\n"
     ]
    },
    {
     "name": "stdout",
     "output_type": "stream",
     "text": [
      "                2022       2021       2020       2019       2018       2017  \\\n",
      "PKOBP      56.441504 -16.656994 -12.693185 -10.923042  57.462687   2.963776   \n",
      "PEKAO      99.672630 -39.173703  -7.844042 -15.830128   2.941179 -12.334496   \n",
      "PZU         9.239826 -19.160652  -8.815479   4.127135  26.949710  -2.380940   \n",
      "PGE        24.030707 -18.341698 -20.399987 -17.012448  15.311019 -18.295543   \n",
      "PGNIG      13.677365  28.049887 -37.366135   9.856929   9.418671   9.533074   \n",
      "...              ...        ...        ...        ...        ...        ...   \n",
      "GLOBALNRG        NaN        NaN        NaN        NaN        NaN        NaN   \n",
      "GREENECO         NaN        NaN        NaN        NaN        NaN        NaN   \n",
      "ENERGOPLD        NaN        NaN        NaN        NaN        NaN        NaN   \n",
      "CCIINT           NaN        NaN        NaN        NaN        NaN        NaN   \n",
      "NOVAKBM          NaN        NaN        NaN        NaN        NaN        NaN   \n",
      "\n",
      "                2016       2015      2014  \n",
      "PKOBP     -23.573826  -9.284627  49275.00  \n",
      "PEKAO     -19.697826  -0.445670  47113.37  \n",
      "PZU       -30.000010   8.252581  38767.87  \n",
      "PGE       -32.292217  16.031920  30439.71  \n",
      "PGNIG      15.505618 -13.592233  30385.00  \n",
      "...              ...        ...       ...  \n",
      "GLOBALNRG        NaN        NaN     13.56  \n",
      "GREENECO         NaN        NaN      6.88  \n",
      "ENERGOPLD        NaN        NaN      0.71  \n",
      "CCIINT           NaN        NaN   1630.21  \n",
      "NOVAKBM          NaN        NaN    229.40  \n",
      "\n",
      "[633 rows x 9 columns]\n"
     ]
    }
   ],
   "source": [
    "def read_excel_files(path):\n",
    "    excel_data = {}\n",
    "    for file in os.listdir(path):\n",
    "        if file.endswith(\".xls\"):\n",
    "            year = file.split('_')[1]  # Extracting year from file name\n",
    "            xls = pd.ExcelFile(os.path.join(path, file))\n",
    "            for sheet_name in xls.sheet_names:\n",
    "                if sheet_name == files_to_tab_names[file][\"market_value\"]:\n",
    "                    df = pd.read_excel(xls, sheet_name=sheet_name, header=3)\n",
    "                    for index, row in df.iterrows():\n",
    "                      company = row[1]\n",
    "                      if company not in excel_data:\n",
    "                        excel_data[company] = {}\n",
    "                      if int(year) >= 2018:\n",
    "                        excel_data[company][year] = row[5]\n",
    "                      else:\n",
    "                        excel_data[company][year] = row[3]\n",
    "\n",
    "    return excel_data\n",
    "\n",
    "excel_data = read_excel_files(\"./Market_Value/\")\n",
    "excel_data = {key: dict(sorted(value.items(), reverse=True)) for key, value in excel_data.items()}\n",
    "for company, data in excel_data.items():\n",
    "  for year, value in data.items():\n",
    "   if str(int(year) - 1) in excel_data[company].keys() and excel_data[company][str(int(year) - 1)] != 0:\n",
    "      excel_data[company][year] = 100*(value - excel_data[company][str(int(year) - 1)])/excel_data[company][str(int(year) - 1)]\n",
    "\n",
    "# Create DataFrame\n",
    "df = pd.DataFrame.from_dict(excel_data, orient='index')\n",
    "print(df)\n",
    "df.to_csv('market_values.csv', index=True)"
   ]
  },
  {
   "cell_type": "code",
   "execution_count": null,
   "metadata": {},
   "outputs": [],
   "source": []
  }
 ],
 "metadata": {
  "colab": {
   "provenance": []
  },
  "kernelspec": {
   "display_name": "Python 3 (ipykernel)",
   "language": "python",
   "name": "python3"
  },
  "language_info": {
   "codemirror_mode": {
    "name": "ipython",
    "version": 3
   },
   "file_extension": ".py",
   "mimetype": "text/x-python",
   "name": "python",
   "nbconvert_exporter": "python",
   "pygments_lexer": "ipython3",
   "version": "3.10.10"
  }
 },
 "nbformat": 4,
 "nbformat_minor": 4
}
