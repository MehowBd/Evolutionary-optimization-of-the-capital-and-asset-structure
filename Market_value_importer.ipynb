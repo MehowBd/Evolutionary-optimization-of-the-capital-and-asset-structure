{
  "nbformat": 4,
  "nbformat_minor": 0,
  "metadata": {
    "colab": {
      "provenance": []
    },
    "kernelspec": {
      "name": "python3",
      "display_name": "Python 3"
    },
    "language_info": {
      "name": "python"
    }
  },
  "cells": [
    {
      "cell_type": "code",
      "source": [
        "import pandas as pd\n",
        "import xlrd\n",
        "import os\n",
        "import warnings\n",
        "\n",
        "file_paths = [\"Rocznik_2014__GR.xls\", \"Rocznik_2015__GR.xls\", \"Rocznik_2016__GR.xls\", \"Rocznik_2017_GR.xls\", \"Rocznik_2018_GR.xls\", \"Rocznik_2019_GR.xls\",\n",
        "              \"Rocznik_2020_GR.xls\", \"Rocznik_2021_GR.xls\", \"Rocznik_2022_GR.xls\"]\n",
        "\n",
        "# map files to tab names [tabs are mixed between years]\n",
        "files_to_tab_names = dict()\n",
        "headers = dict()\n",
        "for ind, path in enumerate(file_paths):\n",
        "  files_to_tab_names[path] = dict()\n",
        "  headers[path] = dict()\n",
        "\n",
        "  if ind <= 3:\n",
        "    files_to_tab_names[path][\"wartosci_akcji\"] = \"Tab 13\"\n",
        "    files_to_tab_names[path][\"najwyzsze_sesyjne_obroty\"] = \"Tab 14\"\n",
        "    files_to_tab_names[path][\"stopy_zwrotu\"] = \"Tab 15\"\n",
        "    files_to_tab_names[path][\"najwyzsze_stopy_zwrotu\"] = \"Tab 16\"\n",
        "  else:\n",
        "    files_to_tab_names[path][\"wartosci_akcji\"] = \"Tab 8\"\n",
        "    files_to_tab_names[path][\"najwyzsze_sesyjne_obroty\"] = \"Tab 9\"\n",
        "    files_to_tab_names[path][\"stopy_zwrotu\"] = \"Tab 10\"\n",
        "    files_to_tab_names[path][\"najwyzsze_stopy_zwrotu\"] = \"Tab 11\"\n",
        "  headers[path][\"wartosci_akcji\"] = [3]"
      ],
      "metadata": {
        "id": "xN6-ftbcQB3b"
      },
      "execution_count": 5,
      "outputs": []
    },
    {
      "cell_type": "code",
      "source": [
        "def read_excel_files(path):\n",
        "    excel_data = {}\n",
        "    for file in os.listdir(path):\n",
        "        if file.endswith(\".xls\"):\n",
        "            year = file.split('_')[1]  # Extracting year from file name\n",
        "            excel_data[year] = {}\n",
        "            xls = pd.ExcelFile(os.path.join(path, file))\n",
        "            for sheet_name in xls.sheet_names:\n",
        "\n",
        "              if sheet_name == files_to_tab_names[file][\"wartosci_akcji\"]:\n",
        "                excel_data[year][\"wartosci_akcji\"] = pd.read_excel(xls, sheet_name=sheet_name, header=headers[file][\"wartosci_akcji\"], usecols = range(11))\n",
        "\n",
        "    print(excel_data.keys())\n",
        "    return excel_data\n",
        "excel_data = read_excel_files(\"./\")"
      ],
      "metadata": {
        "colab": {
          "base_uri": "https://localhost:8080/"
        },
        "id": "s1V-aiULQOnZ",
        "outputId": "7b2eba1b-7dc4-4d78-855e-8c56a53f5a8e"
      },
      "execution_count": 31,
      "outputs": [
        {
          "output_type": "stream",
          "name": "stdout",
          "text": [
            "WARNING *** file size (1183124) not 512 + multiple of sector size (512)\n",
            "WARNING *** OLE2 inconsistency: SSCS size is 0 but SSAT size is non-zero\n",
            "dict_keys(['2020', '2016', '2022', '2018', '2015', '2014', '2021', '2017', '2019'])\n"
          ]
        }
      ]
    },
    {
      "cell_type": "code",
      "source": [
        "def separate_data_by_company(excel_data):\n",
        "\n",
        "    company_dfs = {}\n",
        "    for year, sheets in excel_data.items():\n",
        "        for sheet_name, df in sheets.items():\n",
        "            company_col = None\n",
        "            if 'Lp./ No' in df.columns:\n",
        "              df.drop(columns = ['Lp./ No'])\n",
        "            if 'Unnamed: 9' in df.columns: #delete empty/irrelevent columns\n",
        "              df.drop(columns = ['Unnamed: 9'])\n",
        "            for col in df.columns:\n",
        "                if 'Spółka/ Company' in col:\n",
        "                    company_col = col\n",
        "                    break\n",
        "                elif 'Akcje/ Shares' in col:\n",
        "                    company_col = col\n",
        "                    break\n",
        "                elif 'Spółka/Company' in col:\n",
        "                    company_col = col\n",
        "                    break\n",
        "                elif 'Akcje/Shares' in col:\n",
        "                    company_col = col\n",
        "                    break\n",
        "                elif 'Spółka / Company' in col:\n",
        "                    company_col = col\n",
        "                    break\n",
        "                elif 'Akcje / Shares' in col:\n",
        "                    company_col = col\n",
        "                    break\n",
        "\n",
        "            if company_col is None:\n",
        "                raise ValueError(f\"Company column not found in the DataFrame, sheet_name={sheet_name}, year = {year}\")\n",
        "\n",
        "            for company, group in df.groupby(by=company_col):\n",
        "                if company not in company_dfs:\n",
        "                    # Initialize DataFrame with columns corresponding to each year\n",
        "                    company_dfs[company] = pd.DataFrame(columns=excel_data.keys())\n",
        "                # Add data for the company and year, transposing the group\n",
        "                company_dfs[company][year] = group.drop(columns=[company_col]).T\n",
        "    for company, df in company_dfs.items():\n",
        "        company_dfs[company] = df.sort_index(axis=1)\n",
        "    return company_dfs\n",
        "company_data = separate_data_by_company(excel_data)"
      ],
      "metadata": {
        "id": "ALoxXTOGQfBm"
      },
      "execution_count": 34,
      "outputs": []
    },
    {
      "cell_type": "code",
      "source": [
        "print(company_data.keys())\n",
        "print(company_data['08OCTAVA    '].head())"
      ],
      "metadata": {
        "colab": {
          "base_uri": "https://localhost:8080/"
        },
        "id": "95PtfuJ9Qyi5",
        "outputId": "25439bd4-37d5-4e39-b2f4-5c0c4782fdbe"
      },
      "execution_count": 36,
      "outputs": [
        {
          "output_type": "stream",
          "name": "stdout",
          "text": [
            "dict_keys(['06MAGNA     ', '08OCTAVA    ', '11BIT       ', '4FUNMEDIA   ', 'ABADONRE    ', 'ABCDATA     ', 'ABMSOLID    ', 'ABPL        ', 'ACAUTOGAZ   ', 'ACTION      ', 'ADIUVO      ', 'AGORA       ', 'AGROTON     ', 'AILLERON    ', 'AIRWAY      ', 'ALCHEMIA    ', 'ALIOR       ', 'ALTA        ', 'ALTUSTFI    ', 'ALUMETAL    ', 'AMBRA       ', 'AMICA       ', 'AMPLI       ', 'AMREST      ', 'APATOR      ', 'APLISENS    ', 'APSENERGY   ', 'ARCHICOM    ', 'ARCTIC      ', 'ARCUS       ', 'ARTERIA     ', 'ARTIFEX     ', 'ASBIS       ', 'ASMGROUP    ', 'ASSECOBS    ', 'ASSECOPOL   ', 'ASSECOSEE   ', 'ASTARTA     ', 'ATAL        ', 'ATENDE      ', 'ATLANTAPL   ', 'ATLANTIS    ', 'ATLASEST    ', 'ATM         ', 'ATMGRUPA    ', 'ATREM       ', 'AUGA        ', 'AUTOPARTN   ', 'AWBUD       ', 'BAHOLDING   ', 'BALTONA     ', 'BBIDEV      ', 'BEDZIN      ', 'BENEFIT     ', 'BERLING     ', 'BEST        ', 'BETACOM     ', 'BIK         ', 'BIOMEDLUB   ', 'BIOTON      ', 'BNPPPL      ', 'BOGDANKA    ', 'BOOMBIT     ', 'BORYSZEW    ', 'BOS         ', 'BOWIM       ', 'BRASTER     ', 'BSCDRUK     ', 'BUDIMEX     ', 'BUDOPOL     ', 'BUMECH      ', 'BUWOG       ', 'CALATRAVA   ', 'CAPITAL     ', 'CCC         ', 'CCENERGY    ', 'CDPROJEKT   ', 'CDRL        ', 'CELTIC      ', 'CEZ         ', 'CFI         ', 'CHEMOS      ', 'CIECH       ', 'CIGAMES     ', 'CITYSERV    ', 'CLNPHARMA   ', 'CNT         ', 'COALENERG   ', 'COGNOR      ', 'COMARCH     ', 'COMP        ', 'COMPERIA    ', 'CORMAY      ', 'CPGROUP     ', 'CUBEITG     ', 'CYFRPLSAT   ', 'CZTOREBKA   ', 'DATAWALK    ', 'DEBICA      ', 'DECORA      ', 'DEKPOL      ', 'DELKO       ', 'DEVELIA     ', 'DGA         ', 'DIGITREE    ', 'DINOPL      ', 'DOMDEV      ', 'DREWEX      ', 'DROP        ', 'DROZAPOL    ', 'ECHO        ', 'EDINVEST    ', 'EFEKT       ', 'EKOEXPORT   ', 'ELBUDOWA    ', 'ELEKTROTI   ', 'ELEMENTAL   ', 'ELKOP       ', 'ELZAB       ', 'EMCINSMED   ', 'ENAP        ', 'ENEA        ', 'ENELMED     ', 'ENERGA      ', 'ENERGOINS   ', 'ENTER       ', 'ERBUD       ', 'ERG         ', 'ERGIS       ', 'ESOTIQ      ', 'ESSYSTEM    ', 'ESTAR       ', 'EUCO        ', 'EUROCASH    ', 'EUROHOLD    ', 'EUROTEL     ', 'EVEREST     ', 'FAMUR       ', 'FASING      ', 'FASTFIN     ', 'FEERUM      ', 'FENGHUA     ', 'FERRO       ', 'FERRUM      ', 'FMG         ', 'FON         ', 'FORTE       ', 'GETBACK     ', 'GETIN       ', 'GETINOBLE   ', 'GINOROSSI   ', 'GLCOSMED    ', 'GOBARTO     ', 'GORENJE     ', 'GPRE        ', 'GPW         ', 'GROCLIN     ', 'GRODNO      ', 'GRUPAAZOTY  ', 'GTC         ', 'HANDLOWY    ', 'HARPER      ', 'HELIO       ', 'HERKULES    ', 'HMINWEST    ', 'HOLLYWOOD   ', 'HUBSTYLE    ', 'HYDROTOR    ', 'HYPERION    ', 'I2DEV       ', 'IALBGR      ', 'IBSM        ', 'IDEABANK    ', 'IDEON       ', 'IDMSA       ', 'IFCAPITAL   ', 'IFIRMA      ', 'IFSA        ', 'IIAAV       ', 'IMCOMPANY   ', 'IMMOBILE    ', 'IMPEL       ', 'IMPERA      ', 'IMPEXMET    ', 'IMS         ', 'INC         ', 'INDATA      ', 'INDYGO      ', 'INDYKPOL    ', 'INGBSK      ', 'INPRO       ', 'INSTALKRK   ', 'INTERAOLT   ', 'INTERBUD    ', 'INTERCARS   ', 'INTERFERI   ', 'INTERSPPL   ', 'INTROL      ', 'INVISTA     ', 'IPOPEMA     ', 'IQP         ', 'ITMTRADE    ', 'IZOBLOK     ', 'IZOLACJA    ', 'IZOSTAL     ', 'JHMDEV      ', 'JJAUTO      ', 'JSW         ', 'JWCONSTR    ', 'JWWINVEST   ', 'K2INTERNT   ', 'KANIA       ', 'KBDOM       ', 'KCI         ', 'KDMSHIPNG   ', 'KERNEL      ', 'KETY        ', 'KGHM        ', 'KGL         ', 'KINOPOL     ', 'KOGENERA    ', 'KOMPAP      ', 'KOMPUTRON   ', 'KONSSTALI   ', 'KPPD        ', 'KRAKCHEM    ', 'KREC        ', 'KREDYTIN    ', 'KREZUS      ', 'KRKA        ', 'KRUK        ', 'KRUSZWICA   ', 'KRVITAMIN   ', 'KSGAGRO     ', 'LABOPRINT   ', 'LARK        ', 'LARQ        ', 'LENA        ', 'LENTEX      ', 'LIBET       ', 'LIVECHAT    ', 'LOKUM       ', 'LOTOS       ', 'LPP         ', 'LSISOFT     ', 'LUBAWA      ', 'MABION      ', 'MAKARONPL   ', 'MANGATA     ', 'MARVIPOL    ', 'MASTERPHA   ', 'MAXCOM      ', 'MBANK       ', 'MBWS        ', 'MCI         ', 'MDIENERGIA  ', 'MEDIACAP    ', 'MEDIATEL    ', 'MEDICALG    ', 'MEGARON     ', 'MENNICA     ', 'MERCATOR    ', 'MERCOR      ', 'MEXPOLSKA   ', 'MFO         ', 'MILKILAND   ', 'MILLENNIUM  ', 'MIRACULUM   ', 'MIRBUD      ', 'MLPGROUP    ', 'MLSYSTEM    ', 'MOBRUK      ', 'MOJ         ', 'MOL         ', 'MONNARI     ', 'MORIZON     ', 'MOSTALPLC   ', 'MOSTALWAR   ', 'MOSTALZAB   ', 'MUZA        ', 'MWTRADE     ', 'NANOGROUP   ', 'NETIA       ', 'NETMEDIA    ', 'NEUCA       ', 'NEWAG       ', 'NEWWORLDR   ', 'NORTCOAST   ', 'NOVATURAS   ', 'NOVITA      ', 'NOWAGALA    ', 'NTTSYSTEM   ', 'OAT         ', 'ODLEWNIE    ', 'OEX         ', 'OPENFIN     ', 'OPONEO.PL   ', 'OPTEAM      ', 'ORANGEPL    ', 'ORBIS       ', 'ORCOGROUP   ', 'ORION       ', 'ORZBIALY    ', 'OTLOG       ', 'OTMUCHOW    ', 'OVOSTAR     ', 'PAMAPOL     ', 'PANOVA      ', 'PATENTUS    ', 'PBG         ', 'PBKM        ', 'PBSFINANSE  ', 'PCCEXOL     ', 'PCCROKITA   ', 'PCGUARD     ', 'PCM         ', 'PEIXIN      ', 'PEKABEX     ', 'PEKAO       ', 'PEMANAGER   ', 'PEMUG       ', 'PEP         ', 'PEPEES      ', 'PFLEIDER    ', 'PGE         ', 'PGNIG       ', 'PGO         ', 'PGSSOFT     ', 'PHARMENA    ', 'PHN         ', 'PKNORLEN    ', 'PKOBP       ', 'PKPCARGO    ', 'PLASTBOX    ', 'PLATYNINW   ', 'PLAY        ', 'PLAYWAY     ', 'PLAZACNTR   ', 'PMPG        ', 'POLICE      ', 'POLIMEXMS   ', 'POLNORD     ', 'POLWAX      ', 'POZBUD      ', 'PRAGMAFA    ', 'PRAGMAINK   ', 'PRAIRIE     ', 'PRIMAMODA   ', 'PRIMETECH   ', 'PROCAD      ', 'PROCHEM     ', 'PROCHNIK    ', 'PROJPRZEM   ', 'PROTEKTOR   ', 'PROVIDENT   ', 'PULAWY      ', 'PZU         ', 'QUANTUM     ', 'QUERCUS     ', 'QUMAK       ', 'R22         ', 'RADPOL      ', 'RAFAKO      ', 'RAFAMET     ', 'RAINBOW     ', 'RANKPROGR   ', 'RAWLPLUG    ', 'REDAN       ', 'REDWOOD     ', 'REGNON      ', 'REINHOLD    ', 'REINO       ', 'RELPOL      ', 'REMAK       ', 'RESBUD      ', 'RONSON      ', 'ROPCZYCE    ', 'RUBICON     ', 'RYVU        ', 'SADOVAYA    ', 'SANOK       ', 'SANPL       ', 'SANPL2      ', 'SANTANDER   ', 'SANWIL      ', 'SCOPAK      ', 'SECOGROUP   ', 'SEKO        ', 'SELENAFM    ', 'SELVITA     ', 'SERINUS     ', 'SESCOM      ', 'SETANTA     ', 'SFINKS      ', 'SILVAIR-REGS', 'SILVANO     ', 'SIMPLE      ', 'SKARBIEC    ', 'SKOTAN      ', 'SKYLINE     ', 'SLEEPZAG    ', 'SNIEZKA     ', 'SOHODEV     ', 'SOLAR       ', 'SONEL       ', 'SOPHARMA    ', 'STALEXP     ', 'STALPROD    ', 'STALPROFI   ', 'STAPORKOW   ', 'STARHEDGE   ', 'STELMET     ', 'SUNEX       ', 'SUWARY      ', 'SWISSMED    ', 'SYGNITY     ', 'SYNEKTIK    ', 'TALANX      ', 'TALEX       ', 'TARCZYNSKI  ', 'TATRY       ', 'TAURONPE    ', 'TBULL       ', 'TERMOREX    ', 'TESGAS      ', 'TIM         ', 'TORPOL      ', 'TOWERINVT   ', 'TOYA        ', 'TRAKCJA     ', 'TRANSPOL    ', 'TRITON      ', 'TSGAMES     ', 'TXM         ', 'ULMA        ', 'ULTGAMES    ', 'UNIBEP      ', 'UNICREDIT   ', 'UNIMA       ', 'UNIMOT      ', 'URSUS       ', 'VANTAGE     ', 'VENTUREIN   ', 'VIGOSYS     ', 'VINDEXUS    ', 'VISTAL      ', 'VIVID       ', 'VOTUM       ', 'VOXEL       ', 'VRG         ', 'WADEX       ', 'WARIMPEX    ', 'WASKO       ', 'WAWEL       ', 'WIELTON     ', 'WIKANA      ', 'WILBO       ', 'WINVEST     ', 'WIRTUALNA   ', 'WITTCHEN    ', 'WOJAS       ', 'WORKSERV    ', 'XTB         ', 'XTPL        ', 'YOLO        ', 'ZAMET       ', 'ZASTAL      ', 'ZEPAK       ', 'ZPUE        ', 'ZREMB       ', 'ZUE         ', 'ZYWIEC      ', '06MAGNA', '08OCTAVA', '11BIT', '4FUNMEDIA', 'AATHOLD', 'ABCDATA', 'ABMSOLID', 'ABPL', 'ACAUTOGAZ', 'ACE', 'ACTION', 'ADIUVO', 'ADVADIS', 'AGORA', 'AGROTON', 'AGROWILL', 'AILLERON', 'ALCHEMIA', 'ALIOR', 'ALMA', 'ALTA', 'ALTERCO', 'ALTUSTFI', 'ALUMETAL', 'AMBRA', 'AMICA', 'AMPLI', 'AMREST', 'APATOR', 'APLISENS', 'APSENERGY', 'ARCTIC', 'ARCUS', 'ARTERIA', 'ASBIS', 'ASSECOBS', 'ASSECOPOL', 'ASSECOSEE', 'ASSECOSLO', 'ASTARTA', 'ATAL', 'ATENDE', 'ATLANTAPL', 'ATLANTIS', 'ATLASEST', 'ATM', 'ATMGRUPA', 'ATREM', 'AURUM', 'AVIAAML', 'AVIASG', 'AWBUD', 'B3SYSTEM', 'BAKALLAND', 'BALTONA', 'BANKBPH', 'BBIDEV', 'BEDZIN', 'BENEFIT', 'BERLING', 'BEST', 'BETACOM', 'BGZBNPP', 'BIOMEDLUB', 'BIOTON', 'BIPROMET', 'BMPAG', 'BNPPL', 'BOGDANKA', 'BORYSZEW', 'BOS', 'BOWIM', 'BRASTER', 'BRIJU', 'BSCDRUK', 'BUDIMEX', 'BUDOPOL', 'BUMECH', 'BUWOG', 'BYTOM', 'BZWBK', 'CALATRAVA', 'CAPITAL', 'CASHFLOW', 'CCC', 'CCENERGY', 'CDPROJEKT', 'CDRL', 'CELTIC', 'CEZ', 'CFI', 'CHEMOS', 'CIECH', 'CIGAMES', 'CITYSERV', 'CNT', 'COALENERG', 'COGNOR', 'COLIAN', 'COMARCH', 'COMP', 'COMPERIA', 'CORMAY', 'CPGROUP', 'CUBEITG', 'CYFRPLSAT', 'CZTOREBKA', 'DEBICA', 'DECORA', 'DEKPOL', 'DELKO', 'DGA', 'DOMDEV', 'DREWEX', 'DROP', 'DROZAPOL', 'DSS', 'DTP', 'DUDA', 'DUON', 'ECARD', 'ECHO', 'EDINVEST', 'EFEKT', 'EFH', 'EKANCELAR', 'EKOEXPORT', 'ELBUDOWA', 'ELEKTROTI', 'ELEMENTAL', 'ELKOP', 'ELZAB', 'EMCINSMED', 'EMPERIA', 'ENAP', 'ENEA', 'ENELMED', 'ENERGA', 'ENERGOINS', 'ERBUD', 'ERG', 'ERGIS', 'ESOTIQ', 'ESSYSTEM', 'ESTAR', 'EUCO', 'EUIMPLANT', 'EUROCASH', 'EUROHOLD', 'EUROTEL', 'EVEREST', 'EXILLON', 'FAM', 'FAMUR', 'FARMACOL', 'FASING', 'FASTFIN', 'FEERUM', 'FENGHUA', 'FERRO', 'FERRUM', 'FON', 'FORTE', 'FORTUNA', 'FOTA', 'GANT', 'GETIN', 'GETINOBLE', 'GINOROSSI', 'GLCOSMED', 'GLOBCITYHD', 'GORENJE', 'GPW', 'GRAAL', 'GRAJEWO', 'GRAVITON', 'GREMMEDIA', 'GROCLIN', 'GRODNO', 'GRUPAAZOTY', 'GTC', 'HANDLOWY', 'HARPER', 'HAWE', 'HELIO', 'HERKULES', 'HUBSTYLE', 'HUTMEN', 'HYDROTOR', 'HYPERION', 'IBSM', 'IDEABANK', 'IDEON', 'IDMSA', 'IFCAPITAL', 'IFSA', 'IIAAV', 'IMCOMPANY', 'IMMOBILE', 'IMPEL', 'IMPERA', 'IMPEXMET', 'IMS', 'INC', 'INDATA', 'INDYGO', 'INDYKPOL', 'INGBSK', 'INPOST', 'INPRO', 'INSTALKRK', 'INTEGERPL', 'INTERAOLT', 'INTERBUD', 'INTERCARS', 'INTERFERI', 'INTERSPPL', 'INTROL', 'INVISTA', 'IPOPEMA', 'IQP', 'IVMX', 'IZOBLOK', 'IZOLACJA', 'IZOSTAL', 'JHMDEV', 'JJAUTO', 'JSW', 'JUPITER', 'JWCONSTR', 'K2INTERNT', 'KANIA', 'KBDOM', 'KCI', 'KDMSHIPNG', 'KERDOS', 'KERNEL', 'KETY', 'KGHM', 'KINOPOL', 'KOFOL', 'KOFOLA', 'KOGENERA', 'KOMPAP', 'KOMPUTRON', 'KONSSTALI', 'KOPEX', 'KPPD', 'KRAKCHEM', 'KREC', 'KREDYTIN', 'KREZUS', 'KRKA', 'KRUK', 'KRUSZWICA', 'KRVITAMIN', 'KSGAGRO', 'LABOPRINT', 'LARQ', 'LCCORP', 'LENA', 'LENTEX', 'LIBET', 'LIVECHAT', 'LOKUM', 'LOTOS', 'LPP', 'LSISOFT', 'LUBAWA', 'MABION', 'MAGELLAN', 'MAKARONPL', 'MARVIPOL', 'MBANK', 'MBWS', 'MCI', 'MCLOGIC', 'MDIENERGIA', 'MEDIATEL', 'MEDICALG', 'MEGARON', 'MENNICA', 'MERCATOR', 'MERCOR', 'MEXPOLSKA', 'MFO', 'MIDAS', 'MILKILAND', 'MILLENNIUM', 'MIRACULUM', 'MIRBUD', 'MIT', 'MLPGROUP', 'MNI', 'MOBRUK', 'MOJ', 'MOL', 'MONNARI', 'MOSTALPLC', 'MOSTALWAR', 'MOSTALZAB', 'MSXRESOUR', 'MUZA', 'MWTRADE', 'NETIA', 'NETMEDIA', 'NEUCA', 'NEWAG', 'NEWWORLDR', 'NFIEMF', 'NORTCOAST', 'NOVITA', 'NOWAGALA', 'NTTSYSTEM', 'ODLEWNIE', 'OLYMPIC', 'ONE2ONE', 'OPENFIN', 'OPONEO.PL', 'OPTEAM', 'ORANGEPL', 'ORBIS', 'ORCOGROUP', 'ORION', 'ORZBIALY', 'OTLOG', 'OTMUCHOW', 'OVOSTAR', 'PAGED', 'PAMAPOL', 'PANOVA', 'PATENTUS', 'PBG', 'PBOANIOLA', 'PBSFINANSE', 'PCCEXOL', 'PCCINTER', 'PCCROKITA', 'PCGUARD', 'PCM', 'PEGAS', 'PEIXIN', 'PEKABEX', 'PEKAES', 'PEKAO', 'PELION', 'PEMANAGER', 'PEMUG', 'PEP', 'PEPEES', 'PETROLINV', 'PGE', 'PGNIG', 'PGODLEW', 'PHN', 'PKNORLEN', 'PKOBP', 'PKPCARGO', 'PLASTBOX', 'PLATYNINW', 'PLAZACNTR', 'PMPG', 'POLCOLORIT', 'POLICE', 'POLIMEXMS', 'POLMED', 'POLNA', 'POLNORD', 'POLWAX', 'POLYMETAL', 'POZBUD', 'PRAGMAFA', 'PRAGMAINK', 'PRAIRIE', 'PRESCO', 'PRIMAMODA', 'PROCAD', 'PROCHEM', 'PROCHNIK', 'PROJPRZEM', 'PROTEKTOR', 'PROVIDENT', 'PSG', 'PULAWY', 'PWRMEDIA', 'PZU', 'QUANTUM', 'QUERCUS', 'QUMAK', 'RADPOL', 'RAFAKO', 'RAFAMET', 'RAINBOW', 'RANKPROGR', 'RAWLPLUG', 'REDAN', 'REDWOOD', 'REGNON', 'REINHOLD', 'RELPOL', 'REMAK', 'RESBUD', 'ROBYG', 'RONSON', 'ROPCZYCE', 'ROVESE', 'RUBICON', 'SADOVAYA', 'SANOK', 'SANTANDER', 'SANWIL', 'SCOPAK', 'SECOGROUP', 'SEKO', 'SELENAFM', 'SELVITA', 'SERINUS', 'SFINKS', 'SILVANO', 'SIMPLE', 'SKARBIEC', 'SKOK', 'SKOTAN', 'SKYLINE', 'SMT', 'SNIEZKA', 'SOHODEV', 'SOLAR', 'SONEL', 'SOPHARMA', 'STALEXP', 'STALPROD', 'STALPROFI', 'STAPORKOW', 'STARHEDGE', 'SUNEX', 'SUWARY', 'SWISSMED', 'SYGNITY', 'SYNEKTIK', 'SYNTHOS', 'TALANX', 'TALEX', 'TARCZYNSKI', 'TATRY', 'TAURONPE', 'TELL', 'TERESA', 'TERMOREX', 'TESGAS', 'TFONE', 'TIM', 'TOPMEDICA', 'TORPOL', 'TOYA', 'TRAKCJA', 'TRANSPOL', 'TRAVELPL', 'TRITON', 'TVN', 'ULMA', 'UNIBEP', 'UNICREDIT', 'UNIMA', 'UNIWHEELS', 'URSUS', 'VANTAGE', 'VARIANT', 'VIGOSYS', 'VINDEXUS', 'VISTAL', 'VISTULA', 'VOTUM', 'VOXEL', 'WADEX', 'WARIMPEX', 'WASKO', 'WAWEL', 'WDX', 'WESTAISIC', 'WIELTON', 'WIKANA', 'WILBO', 'WINVEST', 'WIRTUALNA', 'WISTIL', 'WITTCHEN', 'WOJAS', 'WORKSERV', 'YAWAL', 'ZAMET', 'ZASTAL', 'ZEPAK', 'ZETKAMA', 'ZPUE', 'ZREMB', 'ZUE', 'ZYWIEC', '3RGAMES     ', 'AIGAMES     ', 'ALLEGRO     ', 'ALTUS       ', 'ANSWEAR     ', 'BIGCHEESE   ', 'BIOPLANET   ', 'BRAND24     ', 'CAPTORTX    ', 'CAVATINA    ', 'COMPREMUM   ', 'CREEPYJAR   ', 'DADELO      ', 'GAMEOPS     ', 'GAMFACTOR   ', 'GIGROUP     ', 'GREENX      ', 'GRUPRACUJ   ', 'HUUUGE      ', 'IMPERIO     ', 'K2HOLDING   ', 'MANYDEV     ', 'MEDINICE    ', 'NEXITY      ', 'NOVAVISGR   ', 'ONDE        ', 'PCFGROUP    ', 'PEPCO       ', 'PGFGROUP    ', 'PHOTON      ', 'POLTREG     ', 'PUNKPIRAT   ', 'PURE        ', 'SATIS       ', 'SHOPER      ', 'STSHOLDING  ', 'VERCOM      ', 'ABADONRE', 'AIRWAY', 'APLITT', 'ARCHICOM', 'ARTIFEX', 'ASMGROUP', 'AUGA', 'AUTOPARTN', 'BACD', 'BAHOLDING', 'BIK', 'BZWBK2', 'CLNPHARMA', 'DINOPL', 'ENTER', 'FMG', 'GEKOPLAST', 'GETBACK', 'GOBARTO', 'GPRE', 'HOLLYWOOD', 'I2DEV', 'IALBGR', 'IFIRMA', 'ITMTRADE', 'JWWINVEST', 'KGL', 'LARK', 'MANGATA', 'MASTERPHA', 'MAXCOM', 'MEDIACAP', 'MORIZON', 'NANOGROUP', 'OEX', 'PBKM', 'PFLEIDER', 'PGO', 'PGSSOFT', 'PLAY', 'PLAYWAY', 'R22', 'SARE', 'SETANTA', 'SLEEPZAG', 'STELMET', 'TOWERINVT', 'TXM', 'UNIMOT', 'VENTUREIN', 'VIVID', 'XTB', 'YOLO', 'ARMATURA', 'BARLINEK', 'BGZ', 'BLACKLION', 'CAMMEDIA', 'DMWDM', 'DRAGOWSKI', 'ENERGOPLD', 'GREENECO', 'INTAKUS', 'INVENTUM', 'MEWA', 'MIESZKO', 'MISPOL', 'NOKAUT', 'NORDEABP', 'NOVAKBM', 'POINTGROUP', 'PPG', 'PTI', 'SKYSTONE', 'SOBIESKI', 'TELEPOLSKA', 'WANDALEX', 'WDMCP', '06MAGNA   ', '08OCTAVA  ', '4FUNMEDIA ', 'ABCDATA   ', 'ABMSOLID  ', 'ABPL      ', 'ACAUTOGAZ ', 'ACE       ', 'ACTION    ', 'ADVADIS   ', 'AGORA     ', 'AGROTON   ', 'AGROWILL  ', 'ALCHEMIA  ', 'ALIOR     ', 'ALMA      ', 'ALTA      ', 'ALTERCO   ', 'AMBRA     ', 'AMICA     ', 'AMPLI     ', 'AMREST    ', 'APATOR    ', 'APLISENS  ', 'ARCTIC    ', 'ARCUS     ', 'ARMATURA  ', 'ARTERIA   ', 'ASBIS     ', 'ASSECOBS  ', 'ASSECOPOL ', 'ASSECOSEE ', 'ASSECOSLO ', 'ASTARTA   ', 'ATENDE    ', 'ATLANTAPL ', 'ATLANTIS  ', 'ATLASEST  ', 'ATM       ', 'ATMGRUPA  ', 'ATREM     ', 'AVIAAML   ', 'AVIASG    ', 'AWBUD     ', 'B3SYSTEM  ', 'BAKALLAND ', 'BALTONA   ', 'BANKBPH   ', 'BARLINEK  ', 'BBIDEV    ', 'BEDZIN    ', 'BENEFIT   ', 'BERLING   ', 'BEST      ', 'BETACOM   ', 'BGZ       ', 'BIOTON    ', 'BIPROMET  ', 'BLACKLION ', 'BMPAG     ', 'BNPPL     ', 'BOGDANKA  ', 'BOMI      ', 'BORYSZEW  ', 'BOS       ', 'BOWIM     ', 'BSCDRUK   ', 'BUDIMEX   ', 'BUDOPOL   ', 'BUDVARCEN ', 'BUMECH    ', 'BYTOM     ', 'BZWBK     ', 'CALATRAVA ', 'CAMMEDIA  ', 'CAPITAL   ', 'CASHFLOW  ', 'CCC       ', 'CCENERGY  ', 'CCIINT    ', 'CDPROJEKT ', 'CEDC      ', 'CELTIC    ', 'CEZ       ', 'CHEMOS    ', 'CIECH     ', 'CIGAMES   ', 'CNT       ', 'COALENERG ', 'COGNOR    ', 'COLIAN    ', 'COMARCH   ', 'COMP      ', 'COMPLEX   ', 'CORMAY    ', 'CYFRPLSAT ', 'CZTOREBKA ', 'DEBICA    ', 'DECORA    ', 'DELKO     ', 'DGA       ', 'DMWDM     ', 'DOMDEV    ', 'DRAGOWSKI ', 'DREWEX    ', 'DROP      ', 'DROZAPOL  ', 'DSS       ', 'DUDA      ', 'DUON      ', 'ECARD     ', 'ECHO      ', 'EDINVEST  ', 'EFEKT     ', 'EFH       ', 'EKANCELAR ', 'EKO       ', 'EKOEXPORT ', 'ELBUDOWA  ', 'ELEKTROTI ', 'ELEMENTAL ', 'ELKOP     ', 'ELZAB     ', 'EMCINSMED ', 'EMPERIA   ', 'ENAP      ', 'ENEA      ', 'ENELMED   ', 'ENERGA    ', 'ENERGOINS ', 'ENERGOPLD ', 'ERBUD     ', 'ERG       ', 'ERGIS     ', 'ESSYSTEM  ', 'ESTAR     ', 'EUCO      ', 'EUIMPLANT ', 'EUROCASH  ', 'EUROHOLD  ', 'EUROMARK  ', 'EUROTEL   ', 'EXILLON   ', 'FAM       ', 'FAMUR     ', 'FARMACOL  ', 'FASING    ', 'FASTFIN   ', 'FEERUM    ', 'FERRO     ', 'FERRUM    ', 'FON       ', 'FORTE     ', 'FORTUNA   ', 'FOTA      ', 'GANT      ', 'GETIN     ', 'GETINOBLE ', 'GINOROSSI ', 'GLCOSMED  ', 'GLOBALNRG ', 'GORENJE   ', 'GPW       ', 'GRAAL     ', 'GRAJEWO   ', 'GREENECO  ', 'GREMMEDIA ', 'GROCLIN   ', 'GTC       ', 'HANDLOWY  ', 'HARPER    ', 'HAWE      ', 'HBPOLSKA  ', 'HELIO     ', 'HERKULES  ', 'HUTMEN    ', 'HYDROTOR  ', 'HYGIENIKA ', 'HYPERION  ', 'IDEATFI   ', 'IDEON     ', 'IDMSA     ', 'IFCAPITAL ', 'IIAAV     ', 'IMCOMPANY ', 'IMPEL     ', 'IMPERA    ', 'IMPEXMET  ', 'INDYKPOL  ', 'INGBSK    ', 'INPRO     ', 'INSTALKRK ', 'INTAKUS   ', 'INTEGERPL ', 'INTERAOLT ', 'INTERBUD  ', 'INTERCARS ', 'INTERFERI ', 'INTERSPPL ', 'INTROL    ', 'INVESTCON ', 'INVISTA   ', 'IPOPEMA   ', 'IQP       ', 'IVMX      ', 'IZOLACJA  ', 'IZOSTAL   ', 'JHMDEV    ', 'JSW       ', 'JUPITER   ', 'JWCONSTR  ', 'K2INTERNT ', 'KANIA     ', 'KBDOM     ', 'KCI       ', 'KDMSHIPNG ', 'KERNEL    ', 'KETY      ', 'KGHM      ', 'KINOPOL   ', 'KOFOLA    ', 'KOGENERA  ', 'KOMPAP    ', 'KOMPUTRON ', 'KONSSTALI ', 'KOPEX     ', 'KPPD      ', 'KRAKCHEM  ', 'KREC      ', 'KREDYTB   ', 'KREDYTIN  ', 'KREZUS    ', 'KRKA      ', 'KRUK      ', 'KRUSZWICA ', 'KSGAGRO   ', 'LCCORP    ', 'LENA      ', 'LENTEX    ', 'LIBET     ', 'LOTOS     ', 'LPP       ', 'LSISOFT   ', 'LSTCAPITA ', 'LUBAWA    ', 'MABION    ', 'MAGELLAN  ', 'MAKARONPL ', 'MAKRUM    ', 'MARVIPOL  ', 'MBANK     ', 'MCI       ', 'MCLOGIC   ', 'MEDIATEL  ', 'MEGARON   ', 'MENNICA   ', 'MERCOR    ', 'MEWA      ', 'MEXPOLSKA ', 'MIDAS     ', 'MIESZKO   ', 'MILKILAND ', 'MIRACULUM ', 'MIRBUD    ', 'MISPOL    ', 'MIT       ', 'MLPGROUP  ', 'MNI       ', 'MOBRUK    ', 'MOJ       ', 'MOL       ', 'MONNARI   ', 'MOSTALEXP ', 'MOSTALPLC ', 'MOSTALWAR ', 'MOSTALZAB ', 'MUZA      ', 'MWTRADE   ', 'NETIA     ', 'NETMEDIA  ', 'NEUCA     ', 'NEWAG     ', 'NEWWORLDR ', 'NFIEMF    ', 'NOKAUT    ', 'NORDEABP  ', 'NORTCOAST ', 'NOVAKBM   ', 'NOVITA    ', 'NOWAGALA  ', 'NTTSYSTEM ', 'ODLEWNIE  ', 'OLYMPIC   ', 'ONE2ONE   ', 'OPENFIN   ', 'OPONEO.PL ', 'OPTEAM    ', 'ORANGEPL  ', 'ORBIS     ', 'ORCOGROUP ', 'ORZBIALY  ', 'OTLOG     ', 'OTMUCHOW  ', 'OVOSTAR   ', 'PAGED     ', 'PAMAPOL   ', 'PANOVA    ', 'PATENTUS  ', 'PBG       ', 'PBOANIOLA ', 'PCCEXOL   ', 'PCCINTER  ', 'PCGUARD   ', 'PEGAS     ', 'PEIXIN    ', 'PEKAES    ', 'PEKAO     ', 'PELION    ', 'PEMUG     ', 'PEP       ', 'PEPEES    ', 'PERMEDIA  ', 'PETROLINV ', 'PGE       ', 'PGNIG     ', 'PGODLEW   ', 'PHN       ', 'PKNORLEN  ', 'PKOBP     ', 'PKPCARGO  ', 'PLASTBOX  ', 'PLAZACNTR ', 'POLAQUA   ', 'POLICE    ', 'POLIMEXMS ', 'POLJADLO  ', 'POLLENAE  ', 'POLMED    ', 'POLNA     ', 'POLNORD   ', 'POZBUD    ', 'PPG       ', 'PRAGMAFA  ', 'PRAGMAINK ', 'PRESCO    ', 'PRIMAMODA ', 'PROCAD    ', 'PROCHEM   ', 'PROCHNIK  ', 'PROJPRZEM ', 'PROTEKTOR ', 'PROVIDENT ', 'PTI       ', 'PULAWY    ', 'PWRMEDIA  ', 'PZU       ', 'QUANTUM   ', 'QUERCUS   ', 'QUMAK     ', 'RADPOL    ', 'RAFAKO    ', 'RAFAMET   ', 'RAINBOW   ', 'RANKPROGR ', 'RAWLPLUG  ', 'REDAN     ', 'REGNON    ', 'REINHOLD  ', 'RELPOL    ', 'REMAK     ', 'RESBUD    ', 'ROBYG     ', 'RONSON    ', 'ROPCZYCE  ', 'ROVESE    ', 'RUBICON   ', 'SADOVAYA  ', 'SANOK     ', 'SANWIL    ', 'SCOPAK    ', 'SECOGROUP ', 'SEKO      ', 'SELENAFM  ', 'SERINUS   ', 'SFINKS    ', 'SILVANO   ', 'SIMPLE    ', 'SKOK      ', 'SKOTAN    ', 'SKYLINE   ', 'SKYSTONE  ', 'SMT       ', 'SNIEZKA   ', 'SOBIESKI  ', 'SOLAR     ', 'SONEL     ', 'SOPHARMA  ', 'STALEXP   ', 'STALPROD  ', 'STALPROFI ', 'STAPORKOW ', 'SUWARY    ', 'SWISSMED  ', 'SYGNITY   ', 'SYNTHOS   ', 'TALEX     ', 'TATRY     ', 'TAURONPE  ', 'TELL      ', 'TERESA    ', 'TESGAS    ', 'TFONE     ', 'TIM       ', 'TOYA      ', 'TRAKCJA   ', 'TRANSPOL  ', 'TRAVELPL  ', 'TRITON    ', 'TVN       ', 'ULMA      ', 'UNIBEP    ', 'UNICREDIT ', 'UNIMA     ', 'URSUS     ', 'VANTAGE   ', 'VARIANT   ', 'VINDEXUS  ', 'VISTULA   ', 'VOTUM     ', 'VOXEL     ', 'WADEX     ', 'WANDALEX  ', 'WARIMPEX  ', 'WASKO     ', 'WAWEL     ', 'WESTAISIC ', 'WIELTON   ', 'WIKANA    ', 'WILBO     ', 'WINVEST   ', 'WISTIL    ', 'WOJAS     ', 'WORKSERV  ', 'YAWAL     ', 'ZAMET     ', 'ZASTAL    ', 'ZELMER    ', 'ZEPAK     ', 'ZETKAMA   ', 'ZPUE      ', 'ZREMB     ', 'ZUE       ', 'ZYWIEC    ', 'GREMINWES', 'AATHOLD     ', 'ALMA        ', 'AVIAAML     ', 'AVIASG      ', 'B3SYSTEM    ', 'BGZBNPP     ', 'BYTOM       ', 'COLIAN      ', 'EMPERIA     ', 'EXILLON     ', 'FAM         ', 'FORTUNA     ', 'FOTA        ', 'GEKOPLAST   ', 'GRAVITON    ', 'HAWE        ', 'KERDOS      ', 'LCCORP      ', 'MNI         ', 'PAGED       ', 'PCCINTER    ', 'PETROLINV   ', 'POLMED      ', 'ROBYG       ', 'SARE        ', 'SYNTHOS     ', 'UNIWHEELS   ', 'VISTULA     ', 'WDX         ', 'WISTIL      '])\n",
            "                                                   2014 2015 2016 2017 2018  \\\n",
            "Lp./ No                                             NaN  NaN  NaN  NaN  NaN   \n",
            "Kod isin / Isin                                     NaN  NaN  NaN  NaN  NaN   \n",
            "Wartość obrotów (mln zł)/ Turnover value (PLN m...  NaN  NaN  NaN  NaN  NaN   \n",
            "Udział w obrotach / Share in turnover (%)           NaN  NaN  NaN  NaN  NaN   \n",
            "Roczny wskaźnik obrotu/ Annual turnover ratio (%)   NaN  NaN  NaN  NaN  NaN   \n",
            "\n",
            "                                                            2019  \\\n",
            "Lp./ No                                                      438   \n",
            "Kod isin / Isin                                     PLNFI0800016   \n",
            "Wartość obrotów (mln zł)/ Turnover value (PLN m...          0.26   \n",
            "Udział w obrotach / Share in turnover (%)               0.000001   \n",
            "Roczny wskaźnik obrotu/ Annual turnover ratio (%)            0.7   \n",
            "\n",
            "                                                            2020  \\\n",
            "Lp./ No                                                      423   \n",
            "Kod isin / Isin                                     PLNFI0800016   \n",
            "Wartość obrotów (mln zł)/ Turnover value (PLN m...          0.15   \n",
            "Udział w obrotach / Share in turnover (%)               0.000001   \n",
            "Roczny wskaźnik obrotu/ Annual turnover ratio (%)            0.4   \n",
            "\n",
            "                                                            2021          2022  \n",
            "Lp./ No                                                      409           423  \n",
            "Kod isin / Isin                                     PLNFI0800016  PLNFI0800016  \n",
            "Wartość obrotów (mln zł)/ Turnover value (PLN m...         0.397         0.312  \n",
            "Udział w obrotach / Share in turnover (%)               0.000001      0.000001  \n",
            "Roczny wskaźnik obrotu/ Annual turnover ratio (%)            0.0           0.7  \n"
          ]
        }
      ]
    }
  ]
}